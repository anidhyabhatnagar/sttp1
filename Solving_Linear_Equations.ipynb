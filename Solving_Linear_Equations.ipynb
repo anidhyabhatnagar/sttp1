{
  "nbformat": 4,
  "nbformat_minor": 0,
  "metadata": {
    "colab": {
      "name": "Solving Linear Equations.ipynb",
      "provenance": [],
      "authorship_tag": "ABX9TyNwXHoOOwHW4SC0d0+48d3l",
      "include_colab_link": true
    },
    "kernelspec": {
      "name": "python3",
      "display_name": "Python 3"
    }
  },
  "cells": [
    {
      "cell_type": "markdown",
      "metadata": {
        "id": "view-in-github",
        "colab_type": "text"
      },
      "source": [
        "<a href=\"https://colab.research.google.com/github/anidhyabhatnagar/sttp1/blob/scientific_computing/Solving_Linear_Equations.ipynb\" target=\"_parent\"><img src=\"https://colab.research.google.com/assets/colab-badge.svg\" alt=\"Open In Colab\"/></a>"
      ]
    },
    {
      "cell_type": "markdown",
      "metadata": {
        "id": "K2EtOWfxKxbs"
      },
      "source": [
        "### Notebook Authored By: <b>Anidhya Bhatnagar</b>\n",
        "### Email: anidhya@gmail.com"
      ]
    },
    {
      "cell_type": "markdown",
      "metadata": {
        "id": "rygd7Z5xK7R1"
      },
      "source": [
        "# Solving Linear Equations\n",
        "\n",
        "*   SciPy is a Python library, the collective name of the scientific computing\n",
        "environment for Python, and the umbrella organization for many of the core libraries for scientific computing with Python.\n",
        "\n",
        "*   The library, scipy, is in fact rather a collection of libraries for high-level scientific computing, which are more or less independent of each other.\n",
        "\n",
        "*   The SciPy library is built on top of NumPy, which provides the basic array data structures and fundamental operations on such arrays. \n",
        "\n",
        "*   The modules in SciPy provide domain-specific high-level computation methods, such as routines for linear algebra, optimization, interpolation, integration, and much more.\n",
        "\n",
        "*   The SciPy module `scipy` should be considered a collection of modules that are selectively imported when required. \n",
        "\n",
        "*   You can use the `scipy.linalg` module, for solving\n",
        "linear systems of equations, and the `scipy.optimize` module, for solving nonlinear equations."
      ]
    },
    {
      "cell_type": "markdown",
      "metadata": {
        "id": "j3Hwx6tljdj-"
      },
      "source": [
        "Importing libraries."
      ]
    },
    {
      "cell_type": "code",
      "metadata": {
        "id": "7nGUUBqxFx_7"
      },
      "source": [
        "import numpy as np\n",
        "from scipy import linalg as la"
      ],
      "execution_count": 2,
      "outputs": []
    },
    {
      "cell_type": "markdown",
      "metadata": {
        "id": "EAqyg7cepFy5"
      },
      "source": [
        "## Rank\n",
        "*   Computing the *rank* of the matrix A that defines a linear equation system is a useful method that can tell us whether the matrix is singular or not and therefore whether there exists a solution or not.\n",
        "\n",
        "*   When A has full rank, the solution is guaranteed to exist. \n",
        "\n",
        "*   However, it may or may not be possible to accurately compute the solution. \n",
        "\n",
        "## Condition Number\n",
        "\n",
        "*   The *condition number* of the matrix, cond(A), gives a measure of how well or poorly conditioned a linear equation system is. \n",
        "\n",
        "*   If the conditioning number is close to 1, if the system is said to be well conditioned (a condition number 1 is ideal), and if the condition number is large, the system is said to be ill-conditioned. \n",
        "\n",
        "*   The solution to an equation system that is ill-conditioned can have large errors.\n",
        "\n",
        "## Norm\n",
        "\n",
        "*   The *norm* of a matrix is a measure of how large its elements are. \n",
        "\n",
        "*   It is a way of determining the “size” of a matrix that is not necessarily related to how many rows or columns the matrix has.\n",
        "\n",
        "*   Matrix Norm or the norm of a matrix is a real number which is a measure of the magnitude of the matrix.\n",
        "\n",
        "Assume that we have a linear equation system on the form `Ax = b`, where `x` is the solution vector. Now consider a small variation of `b`, say `δb`, which gives a corresponding change in the solution, `δx`, given by `A(x+δx) = b+δb`. \n",
        "\n",
        "Because of linearity of the equation, we have `Aδx = δb`. \n",
        "\n",
        "An important question to consider now is: *how large is the relative change in `x` compared to the relative change in `b`?* \n",
        "\n",
        "Mathematically we can formulate this question in terms of the ratios of the norms of these vectors.\n",
        "\n",
        "Let's see it in action."
      ]
    },
    {
      "cell_type": "code",
      "metadata": {
        "id": "ZpowDp0ItYiF"
      },
      "source": [
        "A = np.array([[2, 3], [5, 4]])\n",
        "b = np.array([4, 3])"
      ],
      "execution_count": 3,
      "outputs": []
    },
    {
      "cell_type": "markdown",
      "metadata": {
        "id": "su5RnUwytmJi"
      },
      "source": [
        "You can get the rank of the matrix using `linalg.matrix_rank` method, condition number by using `linalg.cond` method and norm by using `linalg.norm` method."
      ]
    },
    {
      "cell_type": "code",
      "metadata": {
        "colab": {
          "base_uri": "https://localhost:8080/"
        },
        "id": "WZJHtPzBtlG8",
        "outputId": "04357be3-eef7-493d-c45d-5870dd708dfc"
      },
      "source": [
        "np.linalg.matrix_rank(A)"
      ],
      "execution_count": 4,
      "outputs": [
        {
          "output_type": "execute_result",
          "data": {
            "text/plain": [
              "2"
            ]
          },
          "metadata": {
            "tags": []
          },
          "execution_count": 4
        }
      ]
    },
    {
      "cell_type": "code",
      "metadata": {
        "colab": {
          "base_uri": "https://localhost:8080/"
        },
        "id": "OYIqiPgluGbe",
        "outputId": "ec915964-7c05-46f9-bf3c-78ab42423ef1"
      },
      "source": [
        "np.linalg.cond(A)"
      ],
      "execution_count": 5,
      "outputs": [
        {
          "output_type": "execute_result",
          "data": {
            "text/plain": [
              "7.582401374401516"
            ]
          },
          "metadata": {
            "tags": []
          },
          "execution_count": 5
        }
      ]
    },
    {
      "cell_type": "code",
      "metadata": {
        "colab": {
          "base_uri": "https://localhost:8080/"
        },
        "id": "8lpMVrBPuJ_3",
        "outputId": "eb57a655-04e1-44c5-c5e3-53457a964620"
      },
      "source": [
        "np.linalg.norm(A)"
      ],
      "execution_count": 6,
      "outputs": [
        {
          "output_type": "execute_result",
          "data": {
            "text/plain": [
              "7.3484692283495345"
            ]
          },
          "metadata": {
            "tags": []
          },
          "execution_count": 6
        }
      ]
    },
    {
      "cell_type": "code",
      "metadata": {
        "colab": {
          "base_uri": "https://localhost:8080/"
        },
        "id": "8vzSYsplyLrr",
        "outputId": "c1b940f7-78b4-4aeb-dbdb-bc40a6a85e12"
      },
      "source": [
        "np.linalg.solve(A, b)"
      ],
      "execution_count": 13,
      "outputs": [
        {
          "output_type": "execute_result",
          "data": {
            "text/plain": [
              "array([-1.,  2.])"
            ]
          },
          "metadata": {
            "tags": []
          },
          "execution_count": 13
        }
      ]
    },
    {
      "cell_type": "markdown",
      "metadata": {
        "id": "TCMkyjogt3k9"
      },
      "source": [
        "# LU Factorization\n",
        "\n",
        "A better and computationally efficient method to solve this problem is LU Factorisation or Decomposition. \n",
        "\n",
        "The LU factorization of a matrix A is such that `A = LU`, where L is lower triangular matrix and U is upper triangular matrix.\n",
        "\n",
        "Given L and U the solution vector x can be efficiently constructed by first solving `Ly = b` with forward substitution and then solving `Ux = y` with backward substitution.\n",
        "\n",
        "You can use `la.lu` method in `scipy`'s linear algebra module."
      ]
    },
    {
      "cell_type": "code",
      "metadata": {
        "id": "A4wNQeS5wsnj"
      },
      "source": [
        "A = np.array([[2, 3], [5, 4]])\n",
        "b = np.array([4, 3])\n",
        "P, L, U = la.lu(A)"
      ],
      "execution_count": 8,
      "outputs": []
    },
    {
      "cell_type": "code",
      "metadata": {
        "colab": {
          "base_uri": "https://localhost:8080/"
        },
        "id": "5Hus3mhiw8sO",
        "outputId": "bd28d310-3ec6-432d-96df-324efd854603"
      },
      "source": [
        "L "
      ],
      "execution_count": 9,
      "outputs": [
        {
          "output_type": "execute_result",
          "data": {
            "text/plain": [
              "array([[1. , 0. ],\n",
              "       [0.4, 1. ]])"
            ]
          },
          "metadata": {
            "tags": []
          },
          "execution_count": 9
        }
      ]
    },
    {
      "cell_type": "code",
      "metadata": {
        "colab": {
          "base_uri": "https://localhost:8080/"
        },
        "id": "L55S_GQzw_Cu",
        "outputId": "53110a18-573d-4be1-f022-7432f52f6ed9"
      },
      "source": [
        "U"
      ],
      "execution_count": 10,
      "outputs": [
        {
          "output_type": "execute_result",
          "data": {
            "text/plain": [
              "array([[5. , 4. ],\n",
              "       [0. , 1.4]])"
            ]
          },
          "metadata": {
            "tags": []
          },
          "execution_count": 10
        }
      ]
    },
    {
      "cell_type": "code",
      "metadata": {
        "colab": {
          "base_uri": "https://localhost:8080/"
        },
        "id": "fvVOV2bmxATD",
        "outputId": "2fb018aa-2f41-4479-a59c-72621b2d66ec"
      },
      "source": [
        "P.dot(L.dot(U))"
      ],
      "execution_count": 11,
      "outputs": [
        {
          "output_type": "execute_result",
          "data": {
            "text/plain": [
              "array([[2., 3.],\n",
              "       [5., 4.]])"
            ]
          },
          "metadata": {
            "tags": []
          },
          "execution_count": 11
        }
      ]
    },
    {
      "cell_type": "code",
      "metadata": {
        "colab": {
          "base_uri": "https://localhost:8080/"
        },
        "id": "GKqI5XhxxIow",
        "outputId": "c1d0adee-a029-4c4e-a1fc-587eafe97d12"
      },
      "source": [
        "la.solve(A, b)"
      ],
      "execution_count": 12,
      "outputs": [
        {
          "output_type": "execute_result",
          "data": {
            "text/plain": [
              "array([-1.,  2.])"
            ]
          },
          "metadata": {
            "tags": []
          },
          "execution_count": 12
        }
      ]
    },
    {
      "cell_type": "markdown",
      "metadata": {
        "id": "I7DesuxS1OAJ"
      },
      "source": [
        "\n",
        "\n",
        "---\n",
        "\n"
      ]
    },
    {
      "cell_type": "markdown",
      "metadata": {
        "id": "IEz0tewG2y76"
      },
      "source": [
        "*The above methods are for Square Systems where `m = n`. However, the Rectangular Systems are where `m ≠ n`, and hence, they are either underdetermined or overdetermined.*\n",
        "\n",
        "*Underdetermined systems have more variables than equations, so the solution cannot be fully determined. Therefore, for such a system, the solution must be given in terms of the remaining free variables. This makes it difficult to treat this type of problem numerically, but a symbolic approach can often be used instead.*\n",
        "\n",
        "*The SciPy uses `sympy` library for solving such problems using symbolic approach.* "
      ]
    },
    {
      "cell_type": "markdown",
      "metadata": {
        "id": "TbSkEvrn20NF"
      },
      "source": [
        "\n",
        "\n",
        "---\n",
        "\n"
      ]
    },
    {
      "cell_type": "markdown",
      "metadata": {
        "id": "7mmfxvFd219A"
      },
      "source": [
        "# Optimization\n",
        "\n",
        "*   In general, optimization is the process of finding and selecting the optimal element from a set of feasible candidates. \n",
        "\n",
        "*   In mathematical optimization, this problem is usually formulated as determining the extreme value of a function on a given domain. \n",
        "\n",
        "*   An extreme value, or an optimal value, can refer to either the minimum or maximum of the function, depending on the application and the specific problem.\n",
        "\n",
        "*   Optimization is closely related to equation solving because at an optimal value of a function, its derivative, or gradient in the multivariate case, is zero.\n",
        "\n",
        "*   SciPy has an optimization module `optimize` for solving non-linear optimization problems.\n",
        "\n",
        "*   However, convex optimization library `cvxopt` can be used for solving linear optimization problems with linear constraints and it also provides solvers for quadratic optimization problems.\n",
        "\n"
      ]
    },
    {
      "cell_type": "markdown",
      "metadata": {
        "id": "XSPYGgJlHug7"
      },
      "source": [
        "\n",
        "\n",
        "---\n",
        "\n"
      ]
    },
    {
      "cell_type": "markdown",
      "metadata": {
        "id": "g9kfc4GTGmfI"
      },
      "source": [
        "Lets take the following optimization problem:\n",
        "\n",
        "> **Minimize the area of a cylinder with unit volume.**\n",
        "\n",
        "> Here, suitable variables are the radius `r` and height `h` of the cylinder, and the objective function is `f([r, h]) = 2πr^2 + 2πrh`, subject to the equality constraint `g([r, h]) = πr^2h − 1 = 0`. \n",
        "\n",
        "This problem is a two-dimensional optimization problem with an equality constraint.\n",
        "\n"
      ]
    },
    {
      "cell_type": "markdown",
      "metadata": {
        "id": "mXqCGpipH3C9"
      },
      "source": [
        "To solve this problem using SciPy’s numerical optimization functions, \n",
        "\n",
        "*   First define a Python function `f` that implements the objective function. \n",
        "\n",
        "*   To solve the optimization problem, we then pass this function to, for example, `optimize.brent`. \n",
        "\n",
        "*  Optionally we can use the `brack` keyword argument to specify a starting interval for the algorithm."
      ]
    },
    {
      "cell_type": "code",
      "metadata": {
        "id": "IWmxOb1lIZoE"
      },
      "source": [
        "from scipy import optimize"
      ],
      "execution_count": 14,
      "outputs": []
    },
    {
      "cell_type": "code",
      "metadata": {
        "id": "ueK_tvhOHnP5"
      },
      "source": [
        "def f(r):\n",
        "  return 2 * np.pi * r**2 + 2 / r"
      ],
      "execution_count": 17,
      "outputs": []
    },
    {
      "cell_type": "code",
      "metadata": {
        "colab": {
          "base_uri": "https://localhost:8080/"
        },
        "id": "YK5bZqJ1ITWS",
        "outputId": "f7db40fa-f85d-42b3-a988-93cfe7818b25"
      },
      "source": [
        "r_min = optimize.brent(f, brack=(0.1, 4))\n",
        "r_min"
      ],
      "execution_count": 18,
      "outputs": [
        {
          "output_type": "execute_result",
          "data": {
            "text/plain": [
              "0.5419260772557135"
            ]
          },
          "metadata": {
            "tags": []
          },
          "execution_count": 18
        }
      ]
    },
    {
      "cell_type": "code",
      "metadata": {
        "colab": {
          "base_uri": "https://localhost:8080/"
        },
        "id": "viHPXIs6IsIe",
        "outputId": "994cc347-8535-46e8-e7ba-60e97f560a80"
      },
      "source": [
        "f(r_min)"
      ],
      "execution_count": 19,
      "outputs": [
        {
          "output_type": "execute_result",
          "data": {
            "text/plain": [
              "5.535810445932086"
            ]
          },
          "metadata": {
            "tags": []
          },
          "execution_count": 19
        }
      ]
    },
    {
      "cell_type": "markdown",
      "metadata": {
        "id": "uXPVbl3gI5a-"
      },
      "source": [
        "Instead of calling `optimize.brent` directly, you could use the generic interface for scalar minimization problems `optimize.minimize_scalar`. \n",
        "\n",
        "> *Note that to specify a starting interval in this case, you must use the* `bracket` *keyword argument*"
      ]
    },
    {
      "cell_type": "code",
      "metadata": {
        "colab": {
          "base_uri": "https://localhost:8080/"
        },
        "id": "BXvaR9hTJQpH",
        "outputId": "8b405c22-de4e-4a81-c5ad-007ba9f85ebb"
      },
      "source": [
        "optimize.minimize_scalar(f, bracket=(0.1, 4))"
      ],
      "execution_count": 21,
      "outputs": [
        {
          "output_type": "execute_result",
          "data": {
            "text/plain": [
              "     fun: 5.535810445932086\n",
              "    nfev: 19\n",
              "     nit: 15\n",
              " success: True\n",
              "       x: 0.5419260772557135"
            ]
          },
          "metadata": {
            "tags": []
          },
          "execution_count": 21
        }
      ]
    },
    {
      "cell_type": "markdown",
      "metadata": {
        "id": "3tLk30DRJ6tt"
      },
      "source": [
        "> Both the methods above give that the radius that minimizes the area of the cylinder is approximately `0.54` and a minimum area of approximately `5.54`."
      ]
    },
    {
      "cell_type": "markdown",
      "metadata": {
        "id": "mkJvNQTCKPZy"
      },
      "source": [
        "\n",
        "\n",
        "---\n",
        "\n"
      ]
    }
  ]
}