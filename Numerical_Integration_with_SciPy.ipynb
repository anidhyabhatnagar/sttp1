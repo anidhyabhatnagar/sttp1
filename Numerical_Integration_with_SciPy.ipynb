{
  "nbformat": 4,
  "nbformat_minor": 0,
  "metadata": {
    "colab": {
      "name": "Numerical Integration with SciPy.ipynb",
      "provenance": [],
      "authorship_tag": "ABX9TyOVdIpyk8ceekovQQgfGlTI",
      "include_colab_link": true
    },
    "kernelspec": {
      "name": "python3",
      "display_name": "Python 3"
    }
  },
  "cells": [
    {
      "cell_type": "markdown",
      "metadata": {
        "id": "view-in-github",
        "colab_type": "text"
      },
      "source": [
        "<a href=\"https://colab.research.google.com/github/anidhyabhatnagar/sttp1/blob/scientific_computing/Numerical_Integration_with_SciPy.ipynb\" target=\"_parent\"><img src=\"https://colab.research.google.com/assets/colab-badge.svg\" alt=\"Open In Colab\"/></a>"
      ]
    },
    {
      "cell_type": "markdown",
      "metadata": {
        "id": "SgKVpsnvQswn"
      },
      "source": [
        "### Notebook Authored By: <b>Anidhya Bhatnagar</b>\n",
        "### Email: anidhya@gmail.com"
      ]
    },
    {
      "cell_type": "markdown",
      "metadata": {
        "id": "igNiuraVQwel"
      },
      "source": [
        "# Numerical Integration with SciPy\n",
        "\n",
        "*   The numerical quadrature routines in the SciPy integrate module can be categorized into two types: \n",
        "    *   Routines that take the integrand as a Python function\n",
        "    *   Routines that take arrays with samples of the integrand at given points. \n",
        "\n",
        "*   The functions of the first type use Gaussian quadrature (quad, quadrature, fixed_quad), while functions of the second type use Newton-Cotes methods (trapz, simps, and romb).\n",
        "\n",
        "*   The quadrature function is an adaptive Gaussian quadrature routine that is\n",
        "implemented in Python. \n",
        "\n",
        "*   The quadrature repeatedly calls the fixed_quad function, for Gaussian quadrature of fixed order, with increasing order until the required accuracy is\n",
        "reached. \n",
        "\n",
        "*   The quad function is a wrapper for routines from the FORTRAN library\n",
        "QUADPACK, which has superior performance in terms of speed and has more features\n",
        "(such as support for infinite integration limits). \n",
        "\n",
        "*   It is therefore usually preferable to use quad."
      ]
    },
    {
      "cell_type": "markdown",
      "metadata": {
        "id": "I_sLkl0xTAxM"
      },
      "source": [
        "## Example\n",
        "\n",
        "As an example, consider the numerical evaluation of the integral\n",
        "![image.png](data:image/png;base64,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). \n",
        "\n",
        "To evaluate this integral using SciPy’s quad function, first you have to define a function for the integrand and then call the quad function."
      ]
    },
    {
      "cell_type": "code",
      "metadata": {
        "id": "rh5NMpV8Qnw3"
      },
      "source": [
        "import numpy as np\n",
        "from scipy import integrate"
      ],
      "execution_count": 1,
      "outputs": []
    },
    {
      "cell_type": "code",
      "metadata": {
        "id": "8w5mfo8EUx0d"
      },
      "source": [
        "def f(x):\n",
        "  return np.exp(-x**2)"
      ],
      "execution_count": 2,
      "outputs": []
    },
    {
      "cell_type": "code",
      "metadata": {
        "id": "7sFEaKAFU9Uw"
      },
      "source": [
        "val, err = integrate.quad(f, -1, 1)"
      ],
      "execution_count": 3,
      "outputs": []
    },
    {
      "cell_type": "code",
      "metadata": {
        "colab": {
          "base_uri": "https://localhost:8080/"
        },
        "id": "6YhoNlciVEDd",
        "outputId": "04b2ba7c-b8e8-48af-88fe-87fd524425dd"
      },
      "source": [
        "val"
      ],
      "execution_count": 4,
      "outputs": [
        {
          "output_type": "execute_result",
          "data": {
            "text/plain": [
              "1.493648265624854"
            ]
          },
          "metadata": {
            "tags": []
          },
          "execution_count": 4
        }
      ]
    },
    {
      "cell_type": "code",
      "metadata": {
        "colab": {
          "base_uri": "https://localhost:8080/"
        },
        "id": "73u-Ij_iVGov",
        "outputId": "b21cad32-1aa3-48b3-9098-a0280c75ec0c"
      },
      "source": [
        "err"
      ],
      "execution_count": 5,
      "outputs": [
        {
          "output_type": "execute_result",
          "data": {
            "text/plain": [
              "1.6582826951881447e-14"
            ]
          },
          "metadata": {
            "tags": []
          },
          "execution_count": 5
        }
      ]
    },
    {
      "cell_type": "markdown",
      "metadata": {
        "id": "Eox7xID5VP9D"
      },
      "source": [
        "The quad function returns a tuple that contains the numerical estimate of the integral, val, and an estimate of the absolute error, err. The tolerances for the absolute and the relative errors can be set using the optional epsabs and epsrel keyword arguments, respectively."
      ]
    },
    {
      "cell_type": "markdown",
      "metadata": {
        "id": "qC0P9mgvVVqN"
      },
      "source": [
        "\n",
        "\n",
        "---\n",
        "\n"
      ]
    }
  ]
}