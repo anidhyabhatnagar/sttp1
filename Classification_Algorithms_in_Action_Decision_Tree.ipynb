{
  "nbformat": 4,
  "nbformat_minor": 0,
  "metadata": {
    "colab": {
      "name": "Classification Algorithms in Action - Decision Tree.ipynb",
      "provenance": [],
      "collapsed_sections": [],
      "authorship_tag": "ABX9TyNrfgpBFI1xodlhKK+FB09t",
      "include_colab_link": true
    },
    "kernelspec": {
      "name": "python3",
      "display_name": "Python 3"
    }
  },
  "cells": [
    {
      "cell_type": "markdown",
      "metadata": {
        "id": "view-in-github",
        "colab_type": "text"
      },
      "source": [
        "<a href=\"https://colab.research.google.com/github/anidhyabhatnagar/sttp1/blob/classification-algorithms/Classification_Algorithms_in_Action_Decision_Tree.ipynb\" target=\"_parent\"><img src=\"https://colab.research.google.com/assets/colab-badge.svg\" alt=\"Open In Colab\"/></a>"
      ]
    },
    {
      "cell_type": "markdown",
      "metadata": {
        "id": "q3UeU5n05g8y"
      },
      "source": [
        "# Decision Tree Classification"
      ]
    },
    {
      "cell_type": "markdown",
      "metadata": {
        "id": "8OfVQkfL-ZIf"
      },
      "source": [
        "A Decision Tree is a simple representation for classifying examples. It is a Supervised Machine Learning where the data is continuously split according to a certain parameter.\n",
        "\n",
        "Decision Tree consists of the following components:\n",
        "*   **Nodes:** Test for the value of a certain attribute.\n",
        "*   **Edges/ Branch:** Correspond to the outcome of a test and connect to the next node or leaf.\n",
        "*   **Leaf Nodes:** Terminal nodes that predict the outcome (represent class labels or class distribution).\n"
      ]
    },
    {
      "cell_type": "markdown",
      "metadata": {
        "id": "BJ0EbuMaBJt7"
      },
      "source": [
        "![image.png](data:image/png;base64,iVBORw0KGgoAAAANSUhEUgAAARoAAADjCAYAAABaWdvfAAAaSUlEQVR4Ae1dCZasKgx1XS6o1lOrqc30YujDnDAoDiDI/ee83yqQ4Sa5RLu6XAT+AwJAAAhURmCpLB/igQAQAAICRIMkAAJAoDoCIJrqEEMBEAACIBrkABAAAtURANFUhxgKgAAQANEgB16DwN93FcuymH+r+P69xrXhHQHRPBTC32cRy+dXRbuS7QpOFt5H1NF0r/mx3YuwEKmx9SssdyhSsYPKjJ/4kHHx+wzj970o9ikNRPNQXGoTzUq2c73T9082EhNq91ZoYqIJZ//EZ/FEFY7ivC0CIJq2eDttIdEUtf1/X7GSToVt6E6yEHHBhkX3J76rvcUIOx45dxXfr+wI/Fjevi1Zeuzz0/q1vPwtTWy3d8rjFerLkJPqaPK6vGQctUAARNMC5YQOXzhCCEUgex0HvzVQhU9vFYiOqGCVfF90TLdSv4rFybKkQOzJ2meKnjCeJiS71pJCXjcxO0GQfjRpM9FrZ1JCTAzbafjZGAEQTWPArTpWOKZTOVQY2eKPOxqlyxJJQDraHtPFqAcgmmiYLTn7kjZQWbajsV4LaRwhNXJdDdEuy3dTchbDy5IjM1LLUkSTuM414aw1AiCa1ogbfWHh6K5GF1ruOQXdreltTeiCkk1usXy3YrunsKDlue06EkQjFRiykXqdfckHrpRc6LFzfJNonOzAqRCvLKFIm0A0AXrPn4JoHopBWDjejEyhh0Wd7Ca0FCk7V7D7t2kZ/c5AMp60QY5b0nqAaJydOOgJARDNQ9HIE02iOKWNAdGo9ZlfW28SjdDys0QkCJEksaH26WPaQahOw96mGV2swZB+uHGuYMvuEC+ux8vJXfczcPQEAiCaJ1APnzkoEiG3M6wyvYGaXOzt1Vd8ThGNlGcIInl7lSCaTfv0fH0rtwQkQknJ+HET0SRv5eyzmwyReSRx1BoBEE1rxKEPCEyIAIhmwqDDZSDQGgEQTWvEoQ8ITIgAiGbCoMNlINAaARBNa8ShDwhMiACIZsKgw2Ug0BoBEE1rxKEPCEyIAIhmwqDDZSDQGgEQTWvEoQ8ITIgAiGbCoMNlINAaARBNa8ShDwhMiACIZsKgw2Ug0BoBEE1rxKEPCEyIAIhmwqDDZSDQGgEQTWvEoQ8ITIgAiGbCoMNlINAaARBNa8ShDwhMiACIZsKgw2Ug0BoBEE1rxKEPCEyIAIhmwqDDZSDQGgEQTWvEoQ8ITIgAiGbCoMNlINAaARBNa8ShDwhMiACIZsKgw2Ug0BoBEE1rxKEPCEyIAIhmwqDDZSDQGgEQTWvEoQ8ITIgAiGbCoMNlINAaARBNa8ShDwhMiACIZsKgw2Ug0BoBEE1rxKEPCEyIAIhmwqDDZSDQGgEQTWvEoQ8ITIgAiGbCoPfk8t93FcuymH+r+P71ZB1suQsBEM1dSDaS8/voovz8GincUMNJ4iOYSX9fsToCWUTa3p/4rF/huOX3EcsSyNnQj6FxEADRjBMrIcRPfJZVfD6rWNKVW8UbRSiRPk4SigDdHGnnIlbbnigCKelW9Donpoo3EPoEAiCaJ1A/q1MWrOwAVLeQ2PlVQdvbEPPTVe2f+K50LLE+sMt2LI4wgnF6quba7iTqTLRuZwpdSI+LCYkuwvEICIBoRoiSsVF2DbrodeFyAtDdjm0iwi6EdxxCMGIIMLAEU9418Q4mlp2y1yt1+pbcLZafi6MxEQDRjBI31cX424+omMMux3Y/0r9grXaZE5OFIZJrB1I/aQdF2pWUDE+SsSA1n6yPZ+DK6AiAaAaJYFS8EXlw4mAdjJpLb5vssScuCoPSJR/kHih+vUbfjkW2iu2ORkjCOqCL2orjMRAA0QwRJ12o/tfAlijsrZTtWvx19tubsNsp9NkSDr9FyyymxKc6HfoMSNsPLslgN8FlEM0IQVaFG3cftIvY7gp2OoodDJSekCUksZBrzBb12zHyvCUiHq5QrbUPkvkQzl6CAIhmgECy2yBmr34Ia+tdzSOfXVG/oXLzE13RpeIO5QVEyG7XgjFnkz4A0QSAvPAURPOSoKaKdesB7EvchhuDIACiGSRQe2bGXc+126U9fRgHAkcQANEcQavrueGtDHlQ3LXdMG4GBEA0M0QZPgKBhxEA0TwcAKgHAjMgAKKZIcrwEQg8jACI5uEA9KRefiAQ/wGBGgggs2qgOqBM+6njAU2HyQMgAKIZIEi1TaSdDD2urRfy50EARDNPrJOepogldS25GBeBQCECIJpCoN46LUcquetvxQF+1UUARFMX366l75HJ3njXzsG4rhAA0XQVjnbGlJJI6bx2lkPTiAiAaEaM2kWbj5LH0fkXzcPyFyIAonlhULdcOksaZ9dt2YKxeRAA0cwTa/WStivugmyuoDf3WhDNJPG/iyTukjMJ7HDTIACimSAV7iaHu+VNEILpXQTRTJACNYihhswJQjGtiyCal4e+JiHUlP3ysEznHojmxSFvQQQtdLw4RNO4BqJ5aahbEkBLXS8N1+vdAtG8MMRPFP4TOl8Yute6BKJ5WWifLPgndb8sjK9zB0TzopD2UOg92PCikL7GFRDNa0IpLn/y9y4oQDZ3IfkeOSCairHU76NeFAEsy/ZrYa+a0Vtx92bPVXyx/hoCIBohxHddxGJfYG3wjN/8eBTon/jQd1vvvOj+qHQ6v8ei7tEmihmO2yIAopF4KxIgHYd6QT05vyUmP/FZFhHw2WXJPRd0j7a17DIvB/dFAkA0Jpi0g6HHejh83exH/EgSFCVvSGZk/dnDHgs59OUuG1VMlvg1vwr7YvZu12WGOMx+DqKxGaC6mI/4JbqZkHhUctvbIrvOygl+UhIqrodARur0rgJOyb772h22yhis6yqWJUHyp4Gt02Xejd8b5IFoSBTtrsme1ySIRwiZoObWSo3nb4mO7bjEmI3DOwp3Q3yVoas2K6L5/qLnaTG+290nc65Cl8nk48QhAKJxUAghUt2JIRJZKPwfeYZD5qzfPypRP/85veNyUfLsasHGEttduWK7Jpo/EyOPPScaQzIEb91RJrogE08ytR0QE2oC0dCgZ4mGJypdwo/rt+JXipXb+szZWfsd0ahn94tYzK0rI5pU/Gj3aVxma56BYTqtIBoa8mSi6l0y6lToOnes59JdUiW1fZ7j5p07OFuk57TVW3XGD0o0+tZVPxhmpJH8CEEcE/VbRhqkeq5CskEARENTIUk0coJpyentkyUPldzktipI4LuI5kxxUtd6Oz7qDyca+5GEj/h+V/8ZqGT8yPO03kCYyB4QzQDBPlqUA7ikTDziV0Q0lPwduZsNwZ3LRzqru82yuKSu2TH8rIMAiKYOrrdJPVKMtyltKKjUv5ho7MP78FPd+jmZlKv+2c6T+ASiIWA0OgTRNAL6jJrSIjwju6c1s/jZE+atbQHRtEa8UN9sxTebv4Vp8JppIJpOQzlj4c3oc6fpd7tZIJrbIb0ucOaCm9n365nTrwQQTWexQaGN/ennztKpG3NANN2EAgVGQwHCpWiMfwyi6SSGKKxOAgEzqiAAoqkC6zGhIJk8XsAmj81IIyCah6OFQtoPADDax6j3GSCaByOEAioHH1iVY9XjTBBNj1GBTUDgZQiAaF4WULgDBHpEAETTY1RgExB4GQIgmpcFFO4AgR4RANH0GBXYBARehgCI5mUBhTtAoEcEQDQ9RgU2AYGXIQCieVlA4Q4Q6BEBEE2PUYFNQOBlCIBoXhZQuAMEekQARNNjVGATEHgZAiCa0wGt91ZK+Y3/7P3fp23EQiDQBwKTEU3iRXCLfuPhXjjUKzrI+4L02xL9O6D31h8ZP0o0sW1HtN0x9zyud2i3MhRuider2PE7f7bUdafdT8makmgYXxQiHxezLC4QjYZPE80ZXAvhx7TBEQDR0ACqV6r619vqwol3a/0ebk40iojsS8uWDAEl5VMD9HHc0YQ2fMRPTQ2vl3VnscarV7QdSaJRPhM8wnP6xkmFn/VN2mReZ/v96JfBLWYsg2OIWz4mIW5Up3m75U4suS7rP315HfH5KrwvWA+icUH8iQ9pu1WShufJSrJvTOTJ6sS6g235bpp6rTR9RmOKgujWBeT1qXMyTmW1ObaFltbmsdTzNFHrubxgw1fY2sL1vmryoYTqcWWyFBnRdd42Nk+Fj7w2d2OdlyAEl2FiRDYYPk5Xznk8JdHIL1Hy/9LJKIKE2yxms8MeqvVAPk0/lqTJeWan/9OrNm2jgqsd20LL4aoJY11JQUtblG/hzk990+sYrj/Z3aRjFuO2CLa2RGdhLJku05UxXdJOslFVg34QwVMSDUsIEihVsBkS2i1mk6CSwOiOTcTrF85n5NN5LImThcU7iF3bqPAqx9yepArlR1D4BDNP/JKsLPlkiCZTwAw3aQSR72JCrqV1ZtYFTnFdCf9BNAwxEI2FIyxolZB+5ywv5kRxSB078q0Zeiq5dQrs0PPorm9uN3LsSQVXO04UGtNl7FXPWjymYdfIlqiTBJYhjmQRL34yoJ71GJJL4knn0uOEfjPMdSX8B9FQIAWIxsIRJLBKJNKiK6LJ7KRWhP6ZSDo5sCOfykglMf1cTWhLeE5ltTnO+GyUe3/0PO+LPnfdRmRsqtD1Nb8m84yGyaL27emkC+k6ej39jIZxPYiGATYl0fCW2d/qaHLRzxnW71d8CNEk23ALpSIR8nyCZZydZJLT3DpF8v204EGjHNDF5ewOCY/cDvgCJAKrH+qCdPY5H/8igo2fyyTWOv9SRMNvbfxtVlD8mzHZ0Lm5zgPpyVNeSxASiMaDJcRsHQ3zHSdAAAg0QmCyjqYRqlADBIAAQwBEw+DACRAAAjUQANHUQBUygQAQYAiAaBgcOAECQKAGAiCaGqhCJhAAAgwBEA2DAydAAAjUQABEUwNVyAQCQIAhAKJhcMgT8mEu98GxaFJXF9Qng93fUNm/E3raxMSH2J42qSP9fcasHkAgmhBb9clQ8vc44fjOufrEaFOC8h/BV6ZdtH/HveywKhz2iej3Ec19se0jZtlgVhgA0YSgDv/R8czH9kM/bz6fgWhuhoyIeyZmxIDqhxMSDbk1Urcbvnvh7Sz5C2oXBrlW3prQvz3ityrsb2DI3yDpvwMyc3PXpZ5gjDYJ3D6u15moOprMmJt078F3JX/n5b4mw3Y0eazYbWoQC25hCncZNxrL0Gc6Ju3zcU5/c9++vSy27u+bNvxTseDY+D8oJR4+EDOivcnhZERjko9Ury5ekoSbHY1NXp/U4XqejD6Gal7ilopf5y01G1MEROz0otWRtkMnNXEvmFXvVOlnimOsQmzCc+YvM9XKsv7bc//9NnytGSf2aHzseksO9lwqszJ9bEP7+PnefKnDy4rxMV/vYZ6tEVOZ5285mYtoksXKE0J9nUOCEHTAdXLxpODreTLaNOFz7FW3s5pvyvPXzRG113Q6XLdfkUpkP1r/KNafwIqSuPLHF6K2MIdTLCvSp7oCQxwUN+c6lS2PPUnpKbGOMBd4bHfmhzZQ341NkQ/O1vcdzEU0NBldLIOESSSEm+raZX/FfoWDJQCejHpe6pocSV1Xyed+gxS0/IZs5G1Y9HUQ0m5rBDWv0XFcNAGu2mH/9ZbEF/71EiH5yIWxrEgfjS09dv5TGQ2Ixn6xutlEUrFWRPZgzBw0DQ7mIppwl1EA053OfEHVnR1NMunjL8LSpgTfh5u0V85MFUqDbNlQERV+ghxYh5D1LaWEkoQej/RRnJOyaZxT+MU6mL3RxrAzX9lAn8/Q27SUj+++NhfR2PtwsouohKXEIhOWnrP46+SiX7YUruc7VyqhpcDMdVosNrHZQ0xrTJzkoR12Zqufsf7YRl64ejzqzJIGx7KUPhJHJdthpefTDo/bl8I/1sHtDTvQnfkyltS+hF/cpsSEF12ajGhk5HSSuXY9JJUCovn8qAy+UzGiUcRBdzXzXCB33ZGLXsO+hS9cEyTx40lLdnBNHjuFqIrIEAK9VQzjQeZRl7eJZi/ODYgmiKXKt8C3x2OmsG3zvwmJ5gqwieK5Ig5rX4tAikTkJlTWwb0PFhDNoZiCaA7BNfFk1tkqHHTugGgmTopy10E05VjNPlPnirtFT/2mcCKI0NFMFGy4CgSeQgBE8xTy0AsEJkIARDNRsOEqEHgKARDNU8hDLxCYCAEQzcFgy4d7+A8IAIFjCKBqDuBlf4NwYAmmToYANqJ0wEE0aVyiqzSB6HE0ERemRQAbUT70IJo8Nm4kRSypa24BDqZDgOYDPZ4OiIzDIJoMMPRyLnFy1+laHL8fgVQepK69H4m8hyCaPDZqZC9h9sZ3xGP4BQjkciB3/QUuH3YBRLMBWWmilM7bUIWhQRHYi/3e+KBuHzYbRJOB7GiCHJ2fUYvLAyFQGvPSeQO5fthUEE0CsrOJcXZdwgRc6hyBo7E+Or9z9w+bB6IJILuaEFfXB+bgtEMEzsb47LoOIThsEoiGQHZXItwlh5iGw04QuBrbq+s7geGwGSAaA9ndCXC3vMORxYLbEbgrpnfJud3BigJBNAbcGsGvIbNiLkD0BgJ3x/JueRumdzEEohFC1Ax6TdldZNAkRtSIYw2ZvYZjeqJpEewWOnpNsDfYVTN+NWX3hP3URNMyyC119ZRgo9vSIm4tdDwdh2mJ5ongPqHz6QQbWX/LeLXU9URMpiSaJ4P6pO4nEmxUnU/E6QmdreIzHdH0EMwebGiVYCPqeTI+T+quGSsQTU10N2S/NaE2XB5iqIe49GDD3cF6nGjUq0Pdu5dX8f2720Uvr7cA9maPR2reo15i0osdd2VCMdF810Us9C3r9iXmwbVjhv3Eh774XL3I/iN+x4QUze4xcD3aVARmw0nYiBqCXVFVMdEIRQKk4/j7inUh57cY+ROfZRGXuCthR88F3aNtZ4obG1Ei8S5e6jE3zrpUTjRBB5N7ibkER//jnUlR8oZkdtYrsm6EYN1lo4pJ4h3PCvti9j7ZZYaxw0ZEsvD84V25cd6CeGVRLQfLDhGNUMnzEb9EEoXEo4yxt0V2XaDcnlLDi+vBLt742WOQcubeYauMwbquYlkSJH8a2PIuk+YAPdY+hy+9T9joNqlMpxySWQ7MA9fvwP2AulNT77JRxeShjegY0diuRiYETdwE8QghE9QkjBrP3xId23HLYnVXcMq03TPrqs2KaL4/Ed7GxPhuFz3z5khx2w0lkQ8h8WAjYijvnlzNDalA5cdDG9FhonFdDYXGEIkEg/8jOxOZs4a/WpLJTImLyj5xfEdQTqi9ZckV2zXR/AkdI489JxpDMgRvNZ7qgkw8ydRdHxWhYCPaxenMhCu5IfXp/HhmI7qRaHgrnAeyvBXPy9geuRqQben1R8/a74jGdp7m1pURje06mBuk+zTX2Ro2d+ckJZ9sMtI3/8+ToSZHPYaNKI/x2dyQEl1+qHh47Hms62xE9xCN0MZFCZLES8+lu6Ry1D7PSa4pv3glEOVa6s8844dLJGWeJnQZE5ZI6lYo3BTimKjfMtIglbqcJZpQZ04gNqIcMvb6mdyQa2l+yOOl4UZ0E9FINwwT0h3LkodKbrKTBQl8F9GcDYANYG8/j/pDE0n5Ykjl+139rWmKCOjztKsgJOVjI7oKa7j+aG7I9Tw/2m5Ex4km9LiT8zPAd2L6phlH/OKJJMUS8nfkbq65c/lIZ3W7mzUmdc2Obf5MEk1gi92MsBFtQrk3eCQ3pKwoPxpuRK8gmqOA7wWwt/FS/6JEko6owg9+S6g6GNJh2oInjp8mGiKjp8NSDHuyucSWI37F+dFuIxqeaI4AXRK4XufM4mcN/N+OXal/MdG024iGJppSgGsk7xMyZ/P3Doxnwax3P0E0d2RzQxm9J1RDKHZVzYZVz/4OSzQ9g7pbARcnzOz7EehmxKlXn4ckml7BPFIEV+cCg20EZ8anR9+HI5oeQdxO+XqjwCKNLXCp+66yNOrbV4ciGiTQdjAx2l+BPRmTnuplGKLpCbQnkyelG9hoVIBDKjv6uDYE0SCB9pNldoxm938rQ3rApnui6QGkrSD2NDYrVrP6fST3nsaoe6I5AibmzofA0wU0EuJPYgWiGSlTYCsQGBQBEM2ggYPZQGAkBEA0I0ULtgKBQREA0QwaOJgNBEZCAEQzUrRgKxAYFIEOiIZ8+U7iC5jyuNb/btm87j5G5PeLyN8k0H/2i/PUGMFTfZGVHezDfFgxEQIXiEYTRJS78usBSYLvYmm+TpC+b7usSEA0yS8yygA+OtGAVDOBPXW5/ebeB9HsEFO6SDJEdwr4MRdtEY0qTLULkKQy3U/Z2yr6wmTL19DSdL6Es0Y8z+T8AJt7ZaKxwOjuQ7f4wftkaOtv2qOyIrGyR0yYe2zeKj6PodY1evGV+foOUs1nRybnzxBN4829CdEs9tW45pvY2VspEyCVFUkG9HyUXjeicKJETd42WYbhOJCUEY32Z3RSzUclk/Oshuycvjb3JkTDnuMwUBTzRM90yorEApoPy9tHZio+lROTkGo+bzM5z2pKz+ltcwfR5KPa/chsRJN7tlS2MXUfzgIDy4mmt839MtGEwVdtq7v/SwDD2PdKR1MQl5dPOUw0Li7jAXPYV1Zp4/mbtjhRT3Iiq6nEHDYezteaysg6ITttaHT1AtGYNxyS5wLCvJjMxzhh2FmnoyLR96Ah0UUevvjCkeJzL5JbFjEiZkd85ZvdmxJA11MYP+7vjTXnC/kyiJeIRmpXTpJ7Zw7CPU6niwREczn6Awk4QjTpfBnI2Q1Tdb19hP/cma4Dzwn31BwnL2vQ+Zq7TDTWBPwEAkCgDQIjbu4gmja5AS1AYGoEQDRThx/OA4E2CIBo2uAMLUBgagRANFOHH84DgTYIgGja4AwtQGBqBEA0U4cfzgOBNgiAaNrgDC1AYGoEQDRThx/OA4E2CIBo2uAMLUBgagRANFOHH84DgTYIgGja4AwtQGBqBEA0U4cfzgOBNgiAaNrgDC1AYGoEQDRThx/OA4E2CIBo2uAMLUBgagT+AW3wx8krF+IBAAAAAElFTkSuQmCC)\n",
        "\n",
        "*Source: xoriant.com*"
      ]
    },
    {
      "cell_type": "markdown",
      "metadata": {
        "id": "S40x07ebBP_m"
      },
      "source": [
        "To use the decision algorithm: \n",
        "\n",
        "*   First, you start at the tree root and split the data on the feature that results in the largest information gain (IG) (reduction in uncertainty towards the final decision).\n",
        "\n",
        "*   In an iterative process, you can then repeat this splitting procedure at each child node until the leaves are pure. *This means that the samples at each leaf node all belong to the same class.*\n",
        "\n",
        "*   In practice, you should set a limit on the depth of the tree to prevent overfitting. *In this case, you will compromise on purity here somewhat as the final leaves may still have some impurity.*"
      ]
    },
    {
      "cell_type": "markdown",
      "metadata": {
        "id": "_qeoiLijDjOv"
      },
      "source": [
        "Let's see Decision Tree Classification in Action"
      ]
    },
    {
      "cell_type": "code",
      "metadata": {
        "id": "xwSG_Tt25JRi"
      },
      "source": [
        "import numpy as np\n",
        "import matplotlib.pyplot as plt\n",
        "import pandas as pd"
      ],
      "execution_count": 2,
      "outputs": []
    },
    {
      "cell_type": "markdown",
      "metadata": {
        "id": "Z7vdU9qr5lk1"
      },
      "source": [
        "### Importing the Dataset"
      ]
    },
    {
      "cell_type": "code",
      "metadata": {
        "id": "jQziFGuk5ruw"
      },
      "source": [
        "url = \"https://raw.githubusercontent.com/anidhyabhatnagar/machine_learning/master/datasets/social_media_ads.csv\"\n",
        "dataset = pd.read_csv(url)\n",
        "X = dataset.iloc[:, :-1].values\n",
        "y = dataset.iloc[:, -1].values"
      ],
      "execution_count": 3,
      "outputs": []
    },
    {
      "cell_type": "markdown",
      "metadata": {
        "id": "FTomXCtE5sSg"
      },
      "source": [
        "### Splitting the Dataset into Training Set and Test Set"
      ]
    },
    {
      "cell_type": "code",
      "metadata": {
        "id": "yBbZ2wTk5ygz"
      },
      "source": [
        "from sklearn.model_selection import train_test_split\n",
        "X_train, X_test, y_train, y_test = train_test_split(X, y, test_size = 0.25, random_state = 0)"
      ],
      "execution_count": 4,
      "outputs": []
    },
    {
      "cell_type": "code",
      "metadata": {
        "id": "wNgt80au5zWO"
      },
      "source": [
        "print(X_train)"
      ],
      "execution_count": null,
      "outputs": []
    },
    {
      "cell_type": "code",
      "metadata": {
        "id": "LMgaKVsk51R_"
      },
      "source": [
        "print(X_test)"
      ],
      "execution_count": null,
      "outputs": []
    },
    {
      "cell_type": "code",
      "metadata": {
        "id": "CpOdGh0O51th"
      },
      "source": [
        "print(y_train)"
      ],
      "execution_count": null,
      "outputs": []
    },
    {
      "cell_type": "code",
      "metadata": {
        "id": "KxFqVSEX51_y"
      },
      "source": [
        "print(y_test)"
      ],
      "execution_count": null,
      "outputs": []
    },
    {
      "cell_type": "markdown",
      "metadata": {
        "id": "GSdsLuTR5y_c"
      },
      "source": [
        "### Feature Scaling"
      ]
    },
    {
      "cell_type": "code",
      "metadata": {
        "id": "r5kPthUa6IbU"
      },
      "source": [
        "from sklearn.preprocessing import StandardScaler\n",
        "sc = StandardScaler()\n",
        "X_train = sc.fit_transform(X_train)\n",
        "X_test = sc.transform(X_test)"
      ],
      "execution_count": 9,
      "outputs": []
    },
    {
      "cell_type": "code",
      "metadata": {
        "id": "Yu7PntL06L-w"
      },
      "source": [
        "print(X_train)"
      ],
      "execution_count": null,
      "outputs": []
    },
    {
      "cell_type": "code",
      "metadata": {
        "id": "92KlJXx_6Nwz"
      },
      "source": [
        "print(X_test)"
      ],
      "execution_count": null,
      "outputs": []
    },
    {
      "cell_type": "markdown",
      "metadata": {
        "id": "jPv9d5F96QRo"
      },
      "source": [
        "### Training the Decision Tree Classification Model on the Training Set"
      ]
    },
    {
      "cell_type": "code",
      "metadata": {
        "id": "rRv4G_nu6Wnc"
      },
      "source": [
        "from sklearn.tree import DecisionTreeClassifier\n",
        "classifier = DecisionTreeClassifier(criterion = 'entropy', random_state = 0)\n",
        "classifier.fit(X_train, y_train)"
      ],
      "execution_count": null,
      "outputs": []
    },
    {
      "cell_type": "markdown",
      "metadata": {
        "id": "xIYfrv_O6JDc"
      },
      "source": [
        "### Predicting the Result"
      ]
    },
    {
      "cell_type": "code",
      "metadata": {
        "id": "JhHUfZtC6a-L"
      },
      "source": [
        "print(classifier.predict(sc.transform([[30,87000]])))"
      ],
      "execution_count": null,
      "outputs": []
    },
    {
      "cell_type": "markdown",
      "metadata": {
        "id": "7LY7E6MS6acZ"
      },
      "source": [
        "### Predicting the Test Set Results"
      ]
    },
    {
      "cell_type": "code",
      "metadata": {
        "id": "AV4iaqTG6fp0"
      },
      "source": [
        "y_pred = classifier.predict(X_test)\n",
        "print(np.concatenate((y_pred.reshape(len(y_pred),1), y_test.reshape(len(y_test),1)),1))"
      ],
      "execution_count": null,
      "outputs": []
    },
    {
      "cell_type": "markdown",
      "metadata": {
        "id": "JTV1kVE_6kMw"
      },
      "source": [
        "### Creating the Confusion Matrix"
      ]
    },
    {
      "cell_type": "code",
      "metadata": {
        "id": "eojLbl-76nRw"
      },
      "source": [
        "from sklearn.metrics import confusion_matrix, accuracy_score\n",
        "cm = confusion_matrix(y_test, y_pred)\n",
        "print(cm)\n",
        "accuracy_score(y_test, y_pred)"
      ],
      "execution_count": null,
      "outputs": []
    },
    {
      "cell_type": "markdown",
      "metadata": {
        "id": "lf5AMjih6oIg"
      },
      "source": [
        "### Visualising the Training Set Results"
      ]
    },
    {
      "cell_type": "code",
      "metadata": {
        "id": "JWBlUaij6tI4"
      },
      "source": [
        "from matplotlib.colors import ListedColormap\n",
        "X_set, y_set = sc.inverse_transform(X_train), y_train\n",
        "X1, X2 = np.meshgrid(np.arange(start = X_set[:, 0].min() - 10, stop = X_set[:, 0].max() + 10, step = 0.25),\n",
        "                     np.arange(start = X_set[:, 1].min() - 1000, stop = X_set[:, 1].max() + 1000, step = 0.25))\n",
        "plt.contourf(X1, X2, classifier.predict(sc.transform(np.array([X1.ravel(), X2.ravel()]).T)).reshape(X1.shape),\n",
        "             alpha = 0.75, cmap = ListedColormap(('red', 'green')))\n",
        "plt.xlim(X1.min(), X1.max())\n",
        "plt.ylim(X2.min(), X2.max())\n",
        "for i, j in enumerate(np.unique(y_set)):\n",
        "    plt.scatter(X_set[y_set == j, 0], X_set[y_set == j, 1], c = ListedColormap(('red', 'green'))(i), label = j)\n",
        "plt.title('Decision Tree Classification (Training set)')\n",
        "plt.xlabel('Age')\n",
        "plt.ylabel('Estimated Salary')\n",
        "plt.legend()\n",
        "plt.show()"
      ],
      "execution_count": null,
      "outputs": []
    },
    {
      "cell_type": "markdown",
      "metadata": {
        "id": "dREahuHu6twu"
      },
      "source": [
        "### Visualising the Test Set Results"
      ]
    },
    {
      "cell_type": "code",
      "metadata": {
        "id": "veekCbTG6yMA"
      },
      "source": [
        "from matplotlib.colors import ListedColormap\n",
        "X_set, y_set = sc.inverse_transform(X_test), y_test\n",
        "X1, X2 = np.meshgrid(np.arange(start = X_set[:, 0].min() - 10, stop = X_set[:, 0].max() + 10, step = 0.25),\n",
        "                     np.arange(start = X_set[:, 1].min() - 1000, stop = X_set[:, 1].max() + 1000, step = 0.25))\n",
        "plt.contourf(X1, X2, classifier.predict(sc.transform(np.array([X1.ravel(), X2.ravel()]).T)).reshape(X1.shape),\n",
        "             alpha = 0.75, cmap = ListedColormap(('red', 'green')))\n",
        "plt.xlim(X1.min(), X1.max())\n",
        "plt.ylim(X2.min(), X2.max())\n",
        "for i, j in enumerate(np.unique(y_set)):\n",
        "    plt.scatter(X_set[y_set == j, 0], X_set[y_set == j, 1], c = ListedColormap(('red', 'green'))(i), label = j)\n",
        "plt.title('Decision Tree Classification (Test set)')\n",
        "plt.xlabel('Age')\n",
        "plt.ylabel('Estimated Salary')\n",
        "plt.legend()\n",
        "plt.show()"
      ],
      "execution_count": null,
      "outputs": []
    },
    {
      "cell_type": "markdown",
      "metadata": {
        "id": "V5aOGl8k6yzN"
      },
      "source": [
        "\n",
        "\n",
        "---\n",
        "\n"
      ]
    }
  ]
}