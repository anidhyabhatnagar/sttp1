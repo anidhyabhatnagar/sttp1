{
  "nbformat": 4,
  "nbformat_minor": 0,
  "metadata": {
    "colab": {
      "name": "Scientific Computing in Python.ipynb",
      "provenance": [],
      "collapsed_sections": [],
      "authorship_tag": "ABX9TyN//C1FfZ0DqKJOMe0+U1CN",
      "include_colab_link": true
    },
    "kernelspec": {
      "name": "python3",
      "display_name": "Python 3"
    }
  },
  "cells": [
    {
      "cell_type": "markdown",
      "metadata": {
        "id": "view-in-github",
        "colab_type": "text"
      },
      "source": [
        "<a href=\"https://colab.research.google.com/github/anidhyabhatnagar/sttp1/blob/scientific_computing/Scientific_Computing_in_Python.ipynb\" target=\"_parent\"><img src=\"https://colab.research.google.com/assets/colab-badge.svg\" alt=\"Open In Colab\"/></a>"
      ]
    },
    {
      "cell_type": "markdown",
      "metadata": {
        "id": "yNJh3zmLUGUK"
      },
      "source": [
        "### Notebook Authored By: <b>Anidhya Bhatnagar</b>\n",
        "### Email: anidhya@gmail.com"
      ]
    },
    {
      "cell_type": "markdown",
      "metadata": {
        "id": "rIO2n_IfkL8P"
      },
      "source": [
        "#Introduction\n",
        "\n",
        "\n",
        "*   Python was not built for Scientific Computing.\n",
        "*   It does not have any inbuilt functions for Scientific computing.\n",
        "*   It utilizes the external libraries typically written in faster languages like C or Fortran.\n",
        "*   The main libraries used for Scientific Computing in Python are Numpy, Scipy and Matplotlib."
      ]
    },
    {
      "cell_type": "markdown",
      "metadata": {
        "id": "aQM1e46Xk9jF"
      },
      "source": [
        "##NumPy (Numerical Python)\n",
        "\n",
        "*   Efficient data structures for working with arrays are provided by the NumPy library.\n",
        "*   Numpy is a low level library written in C for high level mathematical functions.\n",
        "*   It cleverly overcomes the problem of running slowwer algorithms on python by using multidimensional arrays and functions that operates on arrays.\n",
        "*   With this any algorithm that can be expressed as a function on arrays, allows the alogrithm to run quickly.\n",
        "*   NumPy is part of the SciPy project, and is released as a separate library so pople who only need the basic requirements can use it without intalling the rest of SciPy.\n",
        "*   NumPy is compatible Python versions 2.4 trough 2.7.2 and 3.1+."
      ]
    },
    {
      "cell_type": "markdown",
      "metadata": {
        "id": "RmF1JIKumw-A"
      },
      "source": [
        "##SciPy (Scientific Python)\n",
        "*   SciPy is a library that uses Numpy for mathematical functions.\n",
        "*   SciPy uses NumPy arrays as the basic data structure, and comes with modules for various commonly used tasks in scientific programming, including\n",
        "    *   Linear Algebra\n",
        "    *   Integration (Calculus)\n",
        "    *   Ordinary Differential Equation Solving\n",
        "    *   Signal Processing"
      ]
    },
    {
      "cell_type": "markdown",
      "metadata": {
        "id": "xF8BaKV2nuQl"
      },
      "source": [
        "##Matplotlib\n",
        "\n",
        "\n",
        "*   Matplotlib is a flexible plotting library for creating interactive 2D and 3D plots that can also be saved as manuscript-quality figures.\n",
        "*   The API in many ways reflects that of MATLAB, easing transition of MATLAB users to Python.\n",
        "*   Many examples, along with the source code to recreate them, are available in the matplotlib gallery.\n",
        "---"
      ]
    },
    {
      "cell_type": "markdown",
      "metadata": {
        "id": "QbZTOuG5jrHk"
      },
      "source": [
        "# Basics of NumPy\n",
        "*   The NumPy library provides data structures for representing a rich variety of arrays and methods and functions for operating on such arrays.\n",
        "*   NumPy provides the numerical backend for nearly every scientific or technical library for Python.\n",
        "*   It is very important part of the scientific ecosystem in Python.\n",
        "\n",
        "> *NumPy array bear some resemblance to Python's list data structure.*\n",
        "\n",
        "*   The important difference is that the Python lists are generic containers of objects, NumPy arrays are homogeneous and typed arrays of fixed size.\n",
        "*   Homogeneous means that all elements in the array have the same data type.\n",
        "*   Fixed size means that an array cannot be resized (without creating a new array).\n",
        "*   For these and some other reasons operations and functions acting on NumPy arrays can be much more efficient than those using Python lists.\n",
        "*   NumPy also provides a large collection of basic operators\n",
        "and functions that act on these data structures, as well as submodules with higher-level algorithms such as linear algebra and fast Fourier transform.\n",
        "\n",
        "\n",
        "---\n",
        "\n"
      ]
    },
    {
      "cell_type": "markdown",
      "metadata": {
        "id": "0_5XPf6-s8BV"
      },
      "source": [
        "*In this section we will see basic NumPy data structure for arrays and various methods to create such NumPy arrays*"
      ]
    },
    {
      "cell_type": "code",
      "metadata": {
        "id": "ytWDX1PWtW0B"
      },
      "source": [
        "import numpy as np"
      ],
      "execution_count": 2,
      "outputs": []
    },
    {
      "cell_type": "markdown",
      "metadata": {
        "id": "XfOBd4hhtnxd"
      },
      "source": [
        "## The NumPy Array Object\n",
        "*   The main data structure for multidimensional arrays in NumPy is the `ndarray` class.\n",
        "*   In addition to the data stored in the array, this data structure also contains important metadata about the array, such as its shape, size, data type, and other attributes.\n",
        "\n",
        "### Basic attributes of `ndarray` class are:\n",
        "\n",
        "Attribute | Description\n",
        "--- | --\n",
        "Shape | A tuple that contains the number of elements (i.e. the length) for each dimension (axis) of the array.\n",
        "Size | The total number of elements in the array.\n",
        "Ndim | Number of dimensions (axes)\n",
        "nbytes | Number of bytes used to store the data.\n",
        "dtype | The data type of the elements in the array.\n",
        "\n",
        "\n"
      ]
    },
    {
      "cell_type": "markdown",
      "metadata": {
        "id": "fLud2JFXxvdx"
      },
      "source": [
        "Now lets look at some examples which demonstrate the above attributes.\n",
        "\n",
        "First let's initialize two arrays and check their types."
      ]
    },
    {
      "cell_type": "code",
      "metadata": {
        "colab": {
          "base_uri": "https://localhost:8080/"
        },
        "id": "Sgz-Xn-W9E_Y",
        "outputId": "4e950624-1484-44f2-fabc-4c406a321d67"
      },
      "source": [
        "simple_array = np.array([1, 2, 3, 4, 5])\n",
        "type(simple_array)"
      ],
      "execution_count": 3,
      "outputs": [
        {
          "output_type": "execute_result",
          "data": {
            "text/plain": [
              "numpy.ndarray"
            ]
          },
          "metadata": {
            "tags": []
          },
          "execution_count": 3
        }
      ]
    },
    {
      "cell_type": "code",
      "metadata": {
        "colab": {
          "base_uri": "https://localhost:8080/"
        },
        "id": "c5RG8_OC9ks7",
        "outputId": "f3c51d7a-863c-4259-bf86-4f19f985a685"
      },
      "source": [
        "two_dim_array = np.array([[1, 2], [3, 4], [5, 6]])\n",
        "type(two_dim_array)"
      ],
      "execution_count": 4,
      "outputs": [
        {
          "output_type": "execute_result",
          "data": {
            "text/plain": [
              "numpy.ndarray"
            ]
          },
          "metadata": {
            "tags": []
          },
          "execution_count": 4
        }
      ]
    },
    {
      "cell_type": "markdown",
      "metadata": {
        "id": "IjSONVd5-5AF"
      },
      "source": [
        "Now lets print the values of the arrays declared."
      ]
    },
    {
      "cell_type": "code",
      "metadata": {
        "colab": {
          "base_uri": "https://localhost:8080/"
        },
        "id": "jxvNqIYY9SKV",
        "outputId": "3bdee30e-0925-434a-cf9e-e21e718cae23"
      },
      "source": [
        "simple_array"
      ],
      "execution_count": 5,
      "outputs": [
        {
          "output_type": "execute_result",
          "data": {
            "text/plain": [
              "array([1, 2, 3, 4, 5])"
            ]
          },
          "metadata": {
            "tags": []
          },
          "execution_count": 5
        }
      ]
    },
    {
      "cell_type": "code",
      "metadata": {
        "colab": {
          "base_uri": "https://localhost:8080/"
        },
        "id": "IwMRCous9-kO",
        "outputId": "315f8ded-cc36-413a-d91d-d34652edf3d3"
      },
      "source": [
        "two_dim_array"
      ],
      "execution_count": 6,
      "outputs": [
        {
          "output_type": "execute_result",
          "data": {
            "text/plain": [
              "array([[1, 2],\n",
              "       [3, 4],\n",
              "       [5, 6]])"
            ]
          },
          "metadata": {
            "tags": []
          },
          "execution_count": 6
        }
      ]
    },
    {
      "cell_type": "code",
      "metadata": {
        "id": "OLHmyWvj_W-1"
      },
      "source": [
        "four_dim_array = np.array([\n",
        "                           [\n",
        "                            [[1, 2], [2, 3]], \n",
        "                            [[2, 3], [3, 4]]\n",
        "                           ], \n",
        "                           [\n",
        "                            [[5, 6], [6, 7]],\n",
        "                            [[7, 8], [8, 9]]\n",
        "                           ]\n",
        "                          ])"
      ],
      "execution_count": 7,
      "outputs": []
    },
    {
      "cell_type": "markdown",
      "metadata": {
        "id": "DHUMbhN2--1g"
      },
      "source": [
        "`ndim` gives the number of dimensions of the ndarray."
      ]
    },
    {
      "cell_type": "code",
      "metadata": {
        "colab": {
          "base_uri": "https://localhost:8080/"
        },
        "id": "vB-OX-Ta-BVV",
        "outputId": "84fec6d4-be5b-4c42-b4a9-f31c068b3c10"
      },
      "source": [
        "simple_array.ndim"
      ],
      "execution_count": 8,
      "outputs": [
        {
          "output_type": "execute_result",
          "data": {
            "text/plain": [
              "1"
            ]
          },
          "metadata": {
            "tags": []
          },
          "execution_count": 8
        }
      ]
    },
    {
      "cell_type": "code",
      "metadata": {
        "colab": {
          "base_uri": "https://localhost:8080/"
        },
        "id": "pO5TQsxX-F0G",
        "outputId": "93e35934-b5f7-45f0-94fd-0ad84b716666"
      },
      "source": [
        "two_dim_array.ndim"
      ],
      "execution_count": 9,
      "outputs": [
        {
          "output_type": "execute_result",
          "data": {
            "text/plain": [
              "2"
            ]
          },
          "metadata": {
            "tags": []
          },
          "execution_count": 9
        }
      ]
    },
    {
      "cell_type": "code",
      "metadata": {
        "colab": {
          "base_uri": "https://localhost:8080/"
        },
        "id": "PQfzbkYXAX2c",
        "outputId": "53bd83f6-975b-426e-defe-37972f32a955"
      },
      "source": [
        "four_dim_array.ndim"
      ],
      "execution_count": 10,
      "outputs": [
        {
          "output_type": "execute_result",
          "data": {
            "text/plain": [
              "4"
            ]
          },
          "metadata": {
            "tags": []
          },
          "execution_count": 10
        }
      ]
    },
    {
      "cell_type": "markdown",
      "metadata": {
        "id": "lQBDLca3_Fr0"
      },
      "source": [
        "`shape` gives the shape of the array."
      ]
    },
    {
      "cell_type": "code",
      "metadata": {
        "colab": {
          "base_uri": "https://localhost:8080/"
        },
        "id": "UJujfOpf-Qbz",
        "outputId": "7e13843d-3c42-468b-95d5-9ab28270496e"
      },
      "source": [
        "simple_array.shape"
      ],
      "execution_count": 11,
      "outputs": [
        {
          "output_type": "execute_result",
          "data": {
            "text/plain": [
              "(5,)"
            ]
          },
          "metadata": {
            "tags": []
          },
          "execution_count": 11
        }
      ]
    },
    {
      "cell_type": "code",
      "metadata": {
        "colab": {
          "base_uri": "https://localhost:8080/"
        },
        "id": "NV97Z9Ut-Wsf",
        "outputId": "7fa2775b-af86-403c-8179-22860e8f4783"
      },
      "source": [
        "two_dim_array.shape"
      ],
      "execution_count": 12,
      "outputs": [
        {
          "output_type": "execute_result",
          "data": {
            "text/plain": [
              "(3, 2)"
            ]
          },
          "metadata": {
            "tags": []
          },
          "execution_count": 12
        }
      ]
    },
    {
      "cell_type": "code",
      "metadata": {
        "colab": {
          "base_uri": "https://localhost:8080/"
        },
        "id": "b0v5OyoAAahw",
        "outputId": "5f37e175-371d-4f30-d37d-cc15a1158ecb"
      },
      "source": [
        "four_dim_array.shape"
      ],
      "execution_count": 13,
      "outputs": [
        {
          "output_type": "execute_result",
          "data": {
            "text/plain": [
              "(2, 2, 2, 2)"
            ]
          },
          "metadata": {
            "tags": []
          },
          "execution_count": 13
        }
      ]
    },
    {
      "cell_type": "markdown",
      "metadata": {
        "id": "9qi9IVKO_NIi"
      },
      "source": [
        "`size` gives you the number of elements in the array."
      ]
    },
    {
      "cell_type": "code",
      "metadata": {
        "colab": {
          "base_uri": "https://localhost:8080/"
        },
        "id": "hnvBvPo5-afj",
        "outputId": "01bb548e-b29b-4304-f727-950cf5a8376d"
      },
      "source": [
        "simple_array.size"
      ],
      "execution_count": 14,
      "outputs": [
        {
          "output_type": "execute_result",
          "data": {
            "text/plain": [
              "5"
            ]
          },
          "metadata": {
            "tags": []
          },
          "execution_count": 14
        }
      ]
    },
    {
      "cell_type": "code",
      "metadata": {
        "colab": {
          "base_uri": "https://localhost:8080/"
        },
        "id": "0FkErBFX-dzh",
        "outputId": "c7cb58f7-a90f-45cb-e2d2-4445cb71cddf"
      },
      "source": [
        "two_dim_array.size"
      ],
      "execution_count": 15,
      "outputs": [
        {
          "output_type": "execute_result",
          "data": {
            "text/plain": [
              "6"
            ]
          },
          "metadata": {
            "tags": []
          },
          "execution_count": 15
        }
      ]
    },
    {
      "cell_type": "code",
      "metadata": {
        "colab": {
          "base_uri": "https://localhost:8080/"
        },
        "id": "P8LNPiP1AchH",
        "outputId": "216b5f88-837c-4bca-cf0f-a9dec7bebf15"
      },
      "source": [
        "four_dim_array.size"
      ],
      "execution_count": 16,
      "outputs": [
        {
          "output_type": "execute_result",
          "data": {
            "text/plain": [
              "16"
            ]
          },
          "metadata": {
            "tags": []
          },
          "execution_count": 16
        }
      ]
    },
    {
      "cell_type": "markdown",
      "metadata": {
        "id": "wO63yxPnAjbx"
      },
      "source": [
        "`dtype` gives the data type of the array"
      ]
    },
    {
      "cell_type": "code",
      "metadata": {
        "colab": {
          "base_uri": "https://localhost:8080/"
        },
        "id": "j1cuHisYAxIX",
        "outputId": "790a8285-12df-4322-8e05-a5de847af798"
      },
      "source": [
        "simple_array.dtype"
      ],
      "execution_count": 17,
      "outputs": [
        {
          "output_type": "execute_result",
          "data": {
            "text/plain": [
              "dtype('int64')"
            ]
          },
          "metadata": {
            "tags": []
          },
          "execution_count": 17
        }
      ]
    },
    {
      "cell_type": "code",
      "metadata": {
        "colab": {
          "base_uri": "https://localhost:8080/"
        },
        "id": "gO3qnggjA01G",
        "outputId": "6b74fd53-baba-4e0e-b165-016bd44bd65c"
      },
      "source": [
        "two_dim_array.dtype"
      ],
      "execution_count": 18,
      "outputs": [
        {
          "output_type": "execute_result",
          "data": {
            "text/plain": [
              "dtype('int64')"
            ]
          },
          "metadata": {
            "tags": []
          },
          "execution_count": 18
        }
      ]
    },
    {
      "cell_type": "code",
      "metadata": {
        "colab": {
          "base_uri": "https://localhost:8080/"
        },
        "id": "sWI6qbleA3GT",
        "outputId": "76797502-f0d7-439f-bef1-e18f5fce8429"
      },
      "source": [
        "four_dim_array.dtype"
      ],
      "execution_count": 19,
      "outputs": [
        {
          "output_type": "execute_result",
          "data": {
            "text/plain": [
              "dtype('int64')"
            ]
          },
          "metadata": {
            "tags": []
          },
          "execution_count": 19
        }
      ]
    },
    {
      "cell_type": "markdown",
      "metadata": {
        "id": "wzRdUoVOA8Dh"
      },
      "source": [
        "`nbytes` gives the number of bytes occupied by the array."
      ]
    },
    {
      "cell_type": "code",
      "metadata": {
        "colab": {
          "base_uri": "https://localhost:8080/"
        },
        "id": "Xm9PsxFHA7q2",
        "outputId": "2f00b066-9075-4bd0-8326-8e8f0bf736e6"
      },
      "source": [
        "simple_array.nbytes"
      ],
      "execution_count": 20,
      "outputs": [
        {
          "output_type": "execute_result",
          "data": {
            "text/plain": [
              "40"
            ]
          },
          "metadata": {
            "tags": []
          },
          "execution_count": 20
        }
      ]
    },
    {
      "cell_type": "code",
      "metadata": {
        "colab": {
          "base_uri": "https://localhost:8080/"
        },
        "id": "BpdNkMaRBDe3",
        "outputId": "5d877318-6163-4106-b988-e34949490c4a"
      },
      "source": [
        "two_dim_array.nbytes"
      ],
      "execution_count": 21,
      "outputs": [
        {
          "output_type": "execute_result",
          "data": {
            "text/plain": [
              "48"
            ]
          },
          "metadata": {
            "tags": []
          },
          "execution_count": 21
        }
      ]
    },
    {
      "cell_type": "code",
      "metadata": {
        "colab": {
          "base_uri": "https://localhost:8080/"
        },
        "id": "YUA8keYfBFm9",
        "outputId": "485e72e1-11ed-4fbf-f64a-d59d3f6f2a95"
      },
      "source": [
        "four_dim_array.nbytes"
      ],
      "execution_count": 22,
      "outputs": [
        {
          "output_type": "execute_result",
          "data": {
            "text/plain": [
              "128"
            ]
          },
          "metadata": {
            "tags": []
          },
          "execution_count": 22
        }
      ]
    },
    {
      "cell_type": "markdown",
      "metadata": {
        "id": "lGqgdBzvB5U8"
      },
      "source": [
        "\n",
        "\n",
        "---\n",
        "\n"
      ]
    },
    {
      "cell_type": "markdown",
      "metadata": {
        "id": "PSvBr-6pB8Xv"
      },
      "source": [
        "# Data Types in NumPy\n",
        "For scientific work, the most important data types are\n",
        "\n",
        "*   `int` for integers\n",
        "*   `float` for floating point numbers\n",
        "*   `complex` for complex floating point numbers\n",
        "\n",
        "*The following table lists the basic numerical data types available in NumPy.*\n",
        "\n",
        "dtype | Variants | Description\n",
        "--- | --- | ---\n",
        "int | int8, int16, int32, int64 | Integers\n",
        "uint | uint8, uint16, uint32, uint64 | Unsigned (non-negative) Integers\n",
        "bool | Bool | Boolean Value (True or False)\n",
        "float | float16, float32, float64, float128 | Floating-point Numbers\n",
        "complex | complex64, complex128, complex256 | Complex-valued floating-point Numbers\n",
        "\n",
        "*Lets see some examples how can you use dtype attribute to generate arrays of diffrent dtype.*\n",
        "\n"
      ]
    },
    {
      "cell_type": "code",
      "metadata": {
        "colab": {
          "base_uri": "https://localhost:8080/"
        },
        "id": "r1ffrv5VD0MH",
        "outputId": "5efe0afe-5efa-4459-a52b-bb8f43a2f407"
      },
      "source": [
        "int_array = np.array([1, 2, 3], dtype=np.int)\n",
        "int_array.dtype"
      ],
      "execution_count": 23,
      "outputs": [
        {
          "output_type": "execute_result",
          "data": {
            "text/plain": [
              "dtype('int64')"
            ]
          },
          "metadata": {
            "tags": []
          },
          "execution_count": 23
        }
      ]
    },
    {
      "cell_type": "code",
      "metadata": {
        "colab": {
          "base_uri": "https://localhost:8080/"
        },
        "id": "I2eI4SxHQq3-",
        "outputId": "966ebde4-11b4-4e1a-92d2-e3d89b1f738c"
      },
      "source": [
        "float_array = np.array([1, 2, 3], dtype=np.float)\n",
        "float_array"
      ],
      "execution_count": 24,
      "outputs": [
        {
          "output_type": "execute_result",
          "data": {
            "text/plain": [
              "array([1., 2., 3.])"
            ]
          },
          "metadata": {
            "tags": []
          },
          "execution_count": 24
        }
      ]
    },
    {
      "cell_type": "code",
      "metadata": {
        "colab": {
          "base_uri": "https://localhost:8080/"
        },
        "id": "pC7XYlkXQzsO",
        "outputId": "0911df51-d394-4992-b188-80f17f3723a8"
      },
      "source": [
        "float_array.dtype"
      ],
      "execution_count": 25,
      "outputs": [
        {
          "output_type": "execute_result",
          "data": {
            "text/plain": [
              "dtype('float64')"
            ]
          },
          "metadata": {
            "tags": []
          },
          "execution_count": 25
        }
      ]
    },
    {
      "cell_type": "code",
      "metadata": {
        "colab": {
          "base_uri": "https://localhost:8080/"
        },
        "id": "O9gDS6x1RTfy",
        "outputId": "1c2252b1-c852-49e4-eb3d-9546f06e89ba"
      },
      "source": [
        "complex_array = np.array([1, 2, 3], dtype=np.complex)\n",
        "complex_array"
      ],
      "execution_count": 26,
      "outputs": [
        {
          "output_type": "execute_result",
          "data": {
            "text/plain": [
              "array([1.+0.j, 2.+0.j, 3.+0.j])"
            ]
          },
          "metadata": {
            "tags": []
          },
          "execution_count": 26
        }
      ]
    },
    {
      "cell_type": "code",
      "metadata": {
        "colab": {
          "base_uri": "https://localhost:8080/"
        },
        "id": "IjZKdQdWRbbR",
        "outputId": "5b4b818a-57de-4009-bf48-75b9893decab"
      },
      "source": [
        "complex_array.dtype"
      ],
      "execution_count": 27,
      "outputs": [
        {
          "output_type": "execute_result",
          "data": {
            "text/plain": [
              "dtype('complex128')"
            ]
          },
          "metadata": {
            "tags": []
          },
          "execution_count": 27
        }
      ]
    },
    {
      "cell_type": "markdown",
      "metadata": {
        "id": "FXEcVEeJSaUi"
      },
      "source": [
        "# Data Type Conversion\n",
        "\n",
        "*   Once an NumPy array is created, you cannot change its type.\n",
        "*   To change the type, you can type cast or use astype and create a new copy of the array with new data type.\n",
        "\n",
        "*Lets see an example for both the approaches.*\n",
        "First let's see how to use type casting."
      ]
    },
    {
      "cell_type": "code",
      "metadata": {
        "colab": {
          "base_uri": "https://localhost:8080/"
        },
        "id": "02ctskCKTmdK",
        "outputId": "cd53e4ef-6818-42b4-b25f-74772be01001"
      },
      "source": [
        "int_array = np.array([1, 2, 3])\n",
        "int_array.dtype"
      ],
      "execution_count": 28,
      "outputs": [
        {
          "output_type": "execute_result",
          "data": {
            "text/plain": [
              "dtype('int64')"
            ]
          },
          "metadata": {
            "tags": []
          },
          "execution_count": 28
        }
      ]
    },
    {
      "cell_type": "code",
      "metadata": {
        "colab": {
          "base_uri": "https://localhost:8080/"
        },
        "id": "mtGVQMs7TGeC",
        "outputId": "6ba2a5ac-68bb-4e51-b7b9-7bca407ddfb4"
      },
      "source": [
        "float_array = np.array(int_array, dtype=np.float)\n",
        "float_array.dtype"
      ],
      "execution_count": 29,
      "outputs": [
        {
          "output_type": "execute_result",
          "data": {
            "text/plain": [
              "dtype('float64')"
            ]
          },
          "metadata": {
            "tags": []
          },
          "execution_count": 29
        }
      ]
    },
    {
      "cell_type": "markdown",
      "metadata": {
        "id": "8fJoW8ZpTxjR"
      },
      "source": [
        "Now let's see how you can use `astype`."
      ]
    },
    {
      "cell_type": "code",
      "metadata": {
        "colab": {
          "base_uri": "https://localhost:8080/"
        },
        "id": "BZ36GRQKTw7L",
        "outputId": "21159fef-9385-486e-dfff-b9bf00f36c0e"
      },
      "source": [
        "int_array.dtype"
      ],
      "execution_count": 30,
      "outputs": [
        {
          "output_type": "execute_result",
          "data": {
            "text/plain": [
              "dtype('int64')"
            ]
          },
          "metadata": {
            "tags": []
          },
          "execution_count": 30
        }
      ]
    },
    {
      "cell_type": "code",
      "metadata": {
        "colab": {
          "base_uri": "https://localhost:8080/"
        },
        "id": "cDCwfex-TROU",
        "outputId": "663d8bf6-ced9-4742-beff-7ded8aa38e08"
      },
      "source": [
        "converted_array = int_array.astype(np.float)\n",
        "converted_array"
      ],
      "execution_count": 31,
      "outputs": [
        {
          "output_type": "execute_result",
          "data": {
            "text/plain": [
              "array([1., 2., 3.])"
            ]
          },
          "metadata": {
            "tags": []
          },
          "execution_count": 31
        }
      ]
    },
    {
      "cell_type": "code",
      "metadata": {
        "colab": {
          "base_uri": "https://localhost:8080/"
        },
        "id": "BOfkBTF1YhMG",
        "outputId": "9a412ab5-c53c-4325-9611-aa257452eb06"
      },
      "source": [
        "converted_array.dtype"
      ],
      "execution_count": 32,
      "outputs": [
        {
          "output_type": "execute_result",
          "data": {
            "text/plain": [
              "dtype('float64')"
            ]
          },
          "metadata": {
            "tags": []
          },
          "execution_count": 32
        }
      ]
    },
    {
      "cell_type": "markdown",
      "metadata": {
        "id": "V8i4yWDMYopF"
      },
      "source": [
        "\n",
        "\n",
        "---\n",
        "\n"
      ]
    },
    {
      "cell_type": "markdown",
      "metadata": {
        "id": "KG9sdDtLZmSc"
      },
      "source": [
        "# Complex Numbers\n",
        "\n",
        "Regardless the value of `dtype` attribute, all NumPy array instances have the attributes `real` and `imag` for extracting the real and imaginary parts of array, respectively. "
      ]
    },
    {
      "cell_type": "code",
      "metadata": {
        "colab": {
          "base_uri": "https://localhost:8080/"
        },
        "id": "upQpoyzEPANq",
        "outputId": "4ea61de6-cd96-4889-82a1-31bcdca3a368"
      },
      "source": [
        "simple_array = np.array([1, 2, 3])\n",
        "simple_array"
      ],
      "execution_count": 46,
      "outputs": [
        {
          "output_type": "execute_result",
          "data": {
            "text/plain": [
              "array([1, 2, 3])"
            ]
          },
          "metadata": {
            "tags": []
          },
          "execution_count": 46
        }
      ]
    },
    {
      "cell_type": "code",
      "metadata": {
        "colab": {
          "base_uri": "https://localhost:8080/"
        },
        "id": "doOYJOHOPFwq",
        "outputId": "4ae0dfa1-0ffc-4616-8fcd-5230b1ab5312"
      },
      "source": [
        "simple_array.real"
      ],
      "execution_count": 47,
      "outputs": [
        {
          "output_type": "execute_result",
          "data": {
            "text/plain": [
              "array([1, 2, 3])"
            ]
          },
          "metadata": {
            "tags": []
          },
          "execution_count": 47
        }
      ]
    },
    {
      "cell_type": "code",
      "metadata": {
        "colab": {
          "base_uri": "https://localhost:8080/"
        },
        "id": "qi_UGD2-PHrM",
        "outputId": "4431f092-cbe3-4e12-cd93-3668e6a7ddc6"
      },
      "source": [
        "simple_array.imag"
      ],
      "execution_count": 48,
      "outputs": [
        {
          "output_type": "execute_result",
          "data": {
            "text/plain": [
              "array([0, 0, 0])"
            ]
          },
          "metadata": {
            "tags": []
          },
          "execution_count": 48
        }
      ]
    },
    {
      "cell_type": "code",
      "metadata": {
        "colab": {
          "base_uri": "https://localhost:8080/"
        },
        "id": "WgVy4pMjOQhv",
        "outputId": "654f40a8-4a7a-4047-b9eb-63e1fc646305"
      },
      "source": [
        "complex_array = np.array([1, 2. + 6.j, 3], dtype=complex)\n",
        "complex_array"
      ],
      "execution_count": 49,
      "outputs": [
        {
          "output_type": "execute_result",
          "data": {
            "text/plain": [
              "array([1.+0.j, 2.+6.j, 3.+0.j])"
            ]
          },
          "metadata": {
            "tags": []
          },
          "execution_count": 49
        }
      ]
    },
    {
      "cell_type": "code",
      "metadata": {
        "colab": {
          "base_uri": "https://localhost:8080/"
        },
        "id": "Wg6TkiMCObgs",
        "outputId": "46bce085-6e15-4860-8922-ec31d1fbef97"
      },
      "source": [
        "complex_array.real"
      ],
      "execution_count": 51,
      "outputs": [
        {
          "output_type": "execute_result",
          "data": {
            "text/plain": [
              "array([1., 2., 3.])"
            ]
          },
          "metadata": {
            "tags": []
          },
          "execution_count": 51
        }
      ]
    },
    {
      "cell_type": "code",
      "metadata": {
        "colab": {
          "base_uri": "https://localhost:8080/"
        },
        "id": "Xkww0UbWOecz",
        "outputId": "75e2fdbc-cf7a-4027-9768-139aed91298b"
      },
      "source": [
        "complex_array.imag"
      ],
      "execution_count": 50,
      "outputs": [
        {
          "output_type": "execute_result",
          "data": {
            "text/plain": [
              "array([0., 6., 0.])"
            ]
          },
          "metadata": {
            "tags": []
          },
          "execution_count": 50
        }
      ]
    },
    {
      "cell_type": "markdown",
      "metadata": {
        "id": "r0GaEpRxPgMH"
      },
      "source": [
        "\n",
        "\n",
        "---\n",
        "\n"
      ]
    },
    {
      "cell_type": "markdown",
      "metadata": {
        "id": "cst8JQe-QQQ0"
      },
      "source": [
        "# Data Generation in NumPy\n",
        "\n",
        "Let's create some NumPy arrays using NumPy functions for generating arrays.\n",
        "\n"
      ]
    },
    {
      "cell_type": "code",
      "metadata": {
        "colab": {
          "base_uri": "https://localhost:8080/"
        },
        "id": "da6WhR1iTWOx",
        "outputId": "482d4f89-aa12-41dd-940c-d6bebf566aab"
      },
      "source": [
        "np.zeros((3, 3))"
      ],
      "execution_count": 94,
      "outputs": [
        {
          "output_type": "execute_result",
          "data": {
            "text/plain": [
              "array([[0., 0., 0.],\n",
              "       [0., 0., 0.],\n",
              "       [0., 0., 0.]])"
            ]
          },
          "metadata": {
            "tags": []
          },
          "execution_count": 94
        }
      ]
    },
    {
      "cell_type": "code",
      "metadata": {
        "colab": {
          "base_uri": "https://localhost:8080/"
        },
        "id": "nupCr1QoXu-M",
        "outputId": "271279ff-b45f-49fc-d15e-d9baaff29c7f"
      },
      "source": [
        "np.ones((2, 3))"
      ],
      "execution_count": 90,
      "outputs": [
        {
          "output_type": "execute_result",
          "data": {
            "text/plain": [
              "array([[1., 1., 1.],\n",
              "       [1., 1., 1.]])"
            ]
          },
          "metadata": {
            "tags": []
          },
          "execution_count": 90
        }
      ]
    },
    {
      "cell_type": "code",
      "metadata": {
        "colab": {
          "base_uri": "https://localhost:8080/"
        },
        "id": "spRbaiBkX86Y",
        "outputId": "926fd1c0-800e-4b53-ddda-0ba1bdde7ab2"
      },
      "source": [
        "5 * np.ones((2, 3))"
      ],
      "execution_count": 91,
      "outputs": [
        {
          "output_type": "execute_result",
          "data": {
            "text/plain": [
              "array([[5., 5., 5.],\n",
              "       [5., 5., 5.]])"
            ]
          },
          "metadata": {
            "tags": []
          },
          "execution_count": 91
        }
      ]
    },
    {
      "cell_type": "code",
      "metadata": {
        "colab": {
          "base_uri": "https://localhost:8080/"
        },
        "id": "pxmhej1sU1M5",
        "outputId": "9d56ad57-9e12-4ac6-9522-908c310c36db"
      },
      "source": [
        "np.arange(1, 10).reshape(3, 3)"
      ],
      "execution_count": 93,
      "outputs": [
        {
          "output_type": "execute_result",
          "data": {
            "text/plain": [
              "array([[1, 2, 3],\n",
              "       [4, 5, 6],\n",
              "       [7, 8, 9]])"
            ]
          },
          "metadata": {
            "tags": []
          },
          "execution_count": 93
        }
      ]
    },
    {
      "cell_type": "code",
      "metadata": {
        "colab": {
          "base_uri": "https://localhost:8080/"
        },
        "id": "SDh9Vz4UXgq2",
        "outputId": "2320dc3c-ce2b-4266-bb8b-b7e5dacf68dc"
      },
      "source": [
        "np.diag(arr)"
      ],
      "execution_count": 86,
      "outputs": [
        {
          "output_type": "execute_result",
          "data": {
            "text/plain": [
              "array([1, 5, 9])"
            ]
          },
          "metadata": {
            "tags": []
          },
          "execution_count": 86
        }
      ]
    },
    {
      "cell_type": "code",
      "metadata": {
        "colab": {
          "base_uri": "https://localhost:8080/"
        },
        "id": "3Wg09oHkXn-e",
        "outputId": "300859b4-6d4f-4803-c228-c9ef3335ab4a"
      },
      "source": [
        "np.diag(arr, 1)"
      ],
      "execution_count": 87,
      "outputs": [
        {
          "output_type": "execute_result",
          "data": {
            "text/plain": [
              "array([2, 6])"
            ]
          },
          "metadata": {
            "tags": []
          },
          "execution_count": 87
        }
      ]
    },
    {
      "cell_type": "code",
      "metadata": {
        "colab": {
          "base_uri": "https://localhost:8080/"
        },
        "id": "c6GRcWQJXrrm",
        "outputId": "7d885de8-e09a-4227-8be0-7adc209c90ff"
      },
      "source": [
        "np.diag(arr, -1)"
      ],
      "execution_count": 88,
      "outputs": [
        {
          "output_type": "execute_result",
          "data": {
            "text/plain": [
              "array([4, 8])"
            ]
          },
          "metadata": {
            "tags": []
          },
          "execution_count": 88
        }
      ]
    },
    {
      "cell_type": "code",
      "metadata": {
        "colab": {
          "base_uri": "https://localhost:8080/"
        },
        "id": "Qf6nViKEYCj8",
        "outputId": "271e3e1b-31fb-4436-8c19-ca4c1e02530f"
      },
      "source": [
        "np.eye(3)"
      ],
      "execution_count": 92,
      "outputs": [
        {
          "output_type": "execute_result",
          "data": {
            "text/plain": [
              "array([[1., 0., 0.],\n",
              "       [0., 1., 0.],\n",
              "       [0., 0., 1.]])"
            ]
          },
          "metadata": {
            "tags": []
          },
          "execution_count": 92
        }
      ]
    },
    {
      "cell_type": "code",
      "metadata": {
        "colab": {
          "base_uri": "https://localhost:8080/"
        },
        "id": "n8WYqeNtaTkZ",
        "outputId": "305d4bdb-120e-4838-a8be-6253220308a7"
      },
      "source": [
        "np.linspace(0, 100, num=10)"
      ],
      "execution_count": 107,
      "outputs": [
        {
          "output_type": "execute_result",
          "data": {
            "text/plain": [
              "array([  0.        ,  11.11111111,  22.22222222,  33.33333333,\n",
              "        44.44444444,  55.55555556,  66.66666667,  77.77777778,\n",
              "        88.88888889, 100.        ])"
            ]
          },
          "metadata": {
            "tags": []
          },
          "execution_count": 107
        }
      ]
    },
    {
      "cell_type": "code",
      "metadata": {
        "colab": {
          "base_uri": "https://localhost:8080/"
        },
        "id": "qHVn8-7pbidy",
        "outputId": "fdca39aa-84a0-4d9c-b545-1173d9e15e7f"
      },
      "source": [
        "np.logspace(0, 100, num=10)"
      ],
      "execution_count": 110,
      "outputs": [
        {
          "output_type": "execute_result",
          "data": {
            "text/plain": [
              "array([1.00000000e+000, 1.29154967e+011, 1.66810054e+022, 2.15443469e+033,\n",
              "       2.78255940e+044, 3.59381366e+055, 4.64158883e+066, 5.99484250e+077,\n",
              "       7.74263683e+088, 1.00000000e+100])"
            ]
          },
          "metadata": {
            "tags": []
          },
          "execution_count": 110
        }
      ]
    },
    {
      "cell_type": "markdown",
      "metadata": {
        "id": "x79HBZ8dbw6N"
      },
      "source": [
        "## Now lets see how to generate some data"
      ]
    },
    {
      "cell_type": "code",
      "metadata": {
        "colab": {
          "base_uri": "https://localhost:8080/"
        },
        "id": "15SiD8ONcF9v",
        "outputId": "6f1a5710-0121-40c9-e4cc-a67d9266416d"
      },
      "source": [
        "np.random.random()"
      ],
      "execution_count": 111,
      "outputs": [
        {
          "output_type": "execute_result",
          "data": {
            "text/plain": [
              "0.23620761233920506"
            ]
          },
          "metadata": {
            "tags": []
          },
          "execution_count": 111
        }
      ]
    },
    {
      "cell_type": "code",
      "metadata": {
        "colab": {
          "base_uri": "https://localhost:8080/"
        },
        "id": "g3p5PmA5cQ6Y",
        "outputId": "5d0a6762-4565-4843-a47b-a4cc7f64b81b"
      },
      "source": [
        "np.random.random((2, 3))"
      ],
      "execution_count": 114,
      "outputs": [
        {
          "output_type": "execute_result",
          "data": {
            "text/plain": [
              "array([[0.47978453, 0.01325121, 0.41059453],\n",
              "       [0.02296356, 0.89098975, 0.33665389]])"
            ]
          },
          "metadata": {
            "tags": []
          },
          "execution_count": 114
        }
      ]
    },
    {
      "cell_type": "code",
      "metadata": {
        "colab": {
          "base_uri": "https://localhost:8080/"
        },
        "id": "5Gf7usFocor2",
        "outputId": "9ddba246-f0ec-4176-925a-44dab97dc13b"
      },
      "source": [
        "np.random.randn(2, 3)"
      ],
      "execution_count": 115,
      "outputs": [
        {
          "output_type": "execute_result",
          "data": {
            "text/plain": [
              "array([[-0.0632862 , -0.86981947, -1.31234289],\n",
              "       [-1.15187453,  0.06676025,  0.14312978]])"
            ]
          },
          "metadata": {
            "tags": []
          },
          "execution_count": 115
        }
      ]
    },
    {
      "cell_type": "markdown",
      "metadata": {
        "id": "1V9PC0xsgxrD"
      },
      "source": [
        "Lets generate a big array of 10000 random numbers and calculate the Mean."
      ]
    },
    {
      "cell_type": "code",
      "metadata": {
        "colab": {
          "base_uri": "https://localhost:8080/"
        },
        "id": "BWPgYgI2c01q",
        "outputId": "550be95e-5e54-4e0d-9758-4aa6bdaf4c12"
      },
      "source": [
        "r = np.random.randn(10000)\n",
        "r.mean()"
      ],
      "execution_count": 120,
      "outputs": [
        {
          "output_type": "execute_result",
          "data": {
            "text/plain": [
              "0.012831166823727029"
            ]
          },
          "metadata": {
            "tags": []
          },
          "execution_count": 120
        }
      ]
    },
    {
      "cell_type": "markdown",
      "metadata": {
        "id": "6AHyjrkWhG1U"
      },
      "source": [
        "We can also calculate the variance using `var` function."
      ]
    },
    {
      "cell_type": "code",
      "metadata": {
        "colab": {
          "base_uri": "https://localhost:8080/"
        },
        "id": "HpZE9pAWg-ck",
        "outputId": "f1d94c65-8d13-4676-cdba-2e6a8880afc2"
      },
      "source": [
        "r.var()"
      ],
      "execution_count": 121,
      "outputs": [
        {
          "output_type": "execute_result",
          "data": {
            "text/plain": [
              "0.9853850935250346"
            ]
          },
          "metadata": {
            "tags": []
          },
          "execution_count": 121
        }
      ]
    },
    {
      "cell_type": "markdown",
      "metadata": {
        "id": "Lt6AeFClhToo"
      },
      "source": [
        "You can calculate the standard deviation using the function `std`"
      ]
    },
    {
      "cell_type": "code",
      "metadata": {
        "colab": {
          "base_uri": "https://localhost:8080/"
        },
        "id": "CQxxZXs-ha9n",
        "outputId": "cb14efcb-77c3-4146-dbcc-bec9b923cbd7"
      },
      "source": [
        "r.std()"
      ],
      "execution_count": 122,
      "outputs": [
        {
          "output_type": "execute_result",
          "data": {
            "text/plain": [
              "0.9926656504206411"
            ]
          },
          "metadata": {
            "tags": []
          },
          "execution_count": 122
        }
      ]
    },
    {
      "cell_type": "markdown",
      "metadata": {
        "id": "832V0bM5hddI"
      },
      "source": [
        "Now lets talk about a common scenario where you have to perform operations on matrices. First let create a matrix of size 10000 x 3 with random values."
      ]
    },
    {
      "cell_type": "code",
      "metadata": {
        "colab": {
          "base_uri": "https://localhost:8080/"
        },
        "id": "ggGfXQRQhymC",
        "outputId": "77f64ff2-a69b-4a4b-c1a9-56e4ad6a13b1"
      },
      "source": [
        "r = np.random.randn(10000, 3)\n",
        "r.shape"
      ],
      "execution_count": 124,
      "outputs": [
        {
          "output_type": "execute_result",
          "data": {
            "text/plain": [
              "(10000, 3)"
            ]
          },
          "metadata": {
            "tags": []
          },
          "execution_count": 124
        }
      ]
    },
    {
      "cell_type": "code",
      "metadata": {
        "colab": {
          "base_uri": "https://localhost:8080/"
        },
        "id": "I-Deos9tiA8G",
        "outputId": "c871df16-f915-4341-a330-03e0bde57d61"
      },
      "source": [
        "r.mean(axis=0)"
      ],
      "execution_count": 125,
      "outputs": [
        {
          "output_type": "execute_result",
          "data": {
            "text/plain": [
              "array([-0.00435392,  0.01537047, -0.00886807])"
            ]
          },
          "metadata": {
            "tags": []
          },
          "execution_count": 125
        }
      ]
    },
    {
      "cell_type": "code",
      "metadata": {
        "colab": {
          "base_uri": "https://localhost:8080/"
        },
        "id": "vQk2nXhJiErE",
        "outputId": "f2ec1ad2-6273-4314-e078-83265279b2e7"
      },
      "source": [
        "r.mean(axis=1)"
      ],
      "execution_count": 127,
      "outputs": [
        {
          "output_type": "execute_result",
          "data": {
            "text/plain": [
              "(10000,)"
            ]
          },
          "metadata": {
            "tags": []
          },
          "execution_count": 127
        }
      ]
    },
    {
      "cell_type": "markdown",
      "metadata": {
        "id": "j26q1OE4i-e0"
      },
      "source": [
        "When you are working with Data in Machine Learning it is typically organized so that row is a sample or an observation and each column is a specific measurement. \n",
        "\n",
        "So in our case we have 10,000 observation and three measurements per observation.\n",
        "\n",
        "In our 10000 x 3 matrix we can say each observation in a row is a vector. So when you have vectors the analog of variance is covariance.\n",
        "\n",
        "This leads us to a function `cov` in NumPy."
      ]
    },
    {
      "cell_type": "code",
      "metadata": {
        "colab": {
          "base_uri": "https://localhost:8080/"
        },
        "id": "Rr4gPH65iKH3",
        "outputId": "3d8de67d-ef44-49bf-9009-94213f5fe70f"
      },
      "source": [
        "np.cov(r)"
      ],
      "execution_count": 129,
      "outputs": [
        {
          "output_type": "execute_result",
          "data": {
            "text/plain": [
              "(10000, 10000)"
            ]
          },
          "metadata": {
            "tags": []
          },
          "execution_count": 129
        }
      ]
    },
    {
      "cell_type": "markdown",
      "metadata": {
        "id": "R6AM3-VikE2b"
      },
      "source": [
        "Here, the `cov` function by default treat each column as a vector observation *by the way this is not the convention in the rest of the NumPy stack.*\n",
        "\n",
        "We can fix this by using the Transpose. "
      ]
    },
    {
      "cell_type": "code",
      "metadata": {
        "colab": {
          "base_uri": "https://localhost:8080/"
        },
        "id": "pXw3lnpOkiv2",
        "outputId": "785cab91-a756-41e9-f58e-807ca7a744b8"
      },
      "source": [
        "np.cov(r.T)"
      ],
      "execution_count": 131,
      "outputs": [
        {
          "output_type": "execute_result",
          "data": {
            "text/plain": [
              "(3, 3)"
            ]
          },
          "metadata": {
            "tags": []
          },
          "execution_count": 131
        }
      ]
    },
    {
      "cell_type": "markdown",
      "metadata": {
        "id": "04t2y3O7kqre"
      },
      "source": [
        "Another way to do this is to set argument `rowvar` as `False`."
      ]
    },
    {
      "cell_type": "code",
      "metadata": {
        "colab": {
          "base_uri": "https://localhost:8080/"
        },
        "id": "IOJpvuMKk47x",
        "outputId": "cf918913-c924-4b2d-b467-29c06a6d52a8"
      },
      "source": [
        "np.cov(r, rowvar=False)"
      ],
      "execution_count": 132,
      "outputs": [
        {
          "output_type": "execute_result",
          "data": {
            "text/plain": [
              "array([[ 1.00659868, -0.01199551,  0.0127825 ],\n",
              "       [-0.01199551,  0.96802723,  0.0042557 ],\n",
              "       [ 0.0127825 ,  0.0042557 ,  0.99599477]])"
            ]
          },
          "metadata": {
            "tags": []
          },
          "execution_count": 132
        }
      ]
    },
    {
      "cell_type": "markdown",
      "metadata": {
        "id": "Nwl4y6kGlJej"
      },
      "source": [
        "## Generating arrays with random Integer values."
      ]
    },
    {
      "cell_type": "code",
      "metadata": {
        "colab": {
          "base_uri": "https://localhost:8080/"
        },
        "id": "6yS8r7wDlQRA",
        "outputId": "75195968-c464-4edf-af64-47bba972741b"
      },
      "source": [
        "np.random.randint(1, 20, size=(3, 3))"
      ],
      "execution_count": 134,
      "outputs": [
        {
          "output_type": "execute_result",
          "data": {
            "text/plain": [
              "array([[ 5, 15,  9],\n",
              "       [14, 11,  2],\n",
              "       [18, 18,  2]])"
            ]
          },
          "metadata": {
            "tags": []
          },
          "execution_count": 134
        }
      ]
    },
    {
      "cell_type": "markdown",
      "metadata": {
        "id": "6DNsqXlplrXo"
      },
      "source": [
        "Another useful function is `choice` function which randomly select items from one dimensional input array."
      ]
    },
    {
      "cell_type": "code",
      "metadata": {
        "colab": {
          "base_uri": "https://localhost:8080/"
        },
        "id": "Yp_YfpP1mB2T",
        "outputId": "4845716e-d57a-4f40-e25b-b07edbdc13e3"
      },
      "source": [
        "np.random.choice(10, size=(3, 3))"
      ],
      "execution_count": 138,
      "outputs": [
        {
          "output_type": "execute_result",
          "data": {
            "text/plain": [
              "array([[4, 2, 5],\n",
              "       [8, 0, 5],\n",
              "       [6, 7, 8]])"
            ]
          },
          "metadata": {
            "tags": []
          },
          "execution_count": 138
        }
      ]
    },
    {
      "cell_type": "markdown",
      "metadata": {
        "id": "mbNNBGBMw6Ck"
      },
      "source": [
        "\n",
        "\n",
        "---\n",
        "\n"
      ]
    }
  ]
}