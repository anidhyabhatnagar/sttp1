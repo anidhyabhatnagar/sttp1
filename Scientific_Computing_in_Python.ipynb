{
  "nbformat": 4,
  "nbformat_minor": 0,
  "metadata": {
    "colab": {
      "name": "Scientific Computing in Python.ipynb",
      "provenance": [],
      "authorship_tag": "ABX9TyPXHpCQu+EmIIK5E6clfKdM",
      "include_colab_link": true
    },
    "kernelspec": {
      "name": "python3",
      "display_name": "Python 3"
    }
  },
  "cells": [
    {
      "cell_type": "markdown",
      "metadata": {
        "id": "view-in-github",
        "colab_type": "text"
      },
      "source": [
        "<a href=\"https://colab.research.google.com/github/anidhyabhatnagar/sttp1/blob/scientific_computing/Scientific_Computing_in_Python.ipynb\" target=\"_parent\"><img src=\"https://colab.research.google.com/assets/colab-badge.svg\" alt=\"Open In Colab\"/></a>"
      ]
    },
    {
      "cell_type": "markdown",
      "metadata": {
        "id": "rIO2n_IfkL8P"
      },
      "source": [
        "#Introduction\n",
        "\n",
        "\n",
        "*   Python was not built for Scientific Computing.\n",
        "*   It does not have any inbuilt functions for Scientific computing.\n",
        "*   It utilizes the external libraries typically written in faster languages like C or Fortran.\n",
        "*   The main libraries used for Scientific Computing in Python are Numpy, Scipy and Matplotlib."
      ]
    },
    {
      "cell_type": "markdown",
      "metadata": {
        "id": "aQM1e46Xk9jF"
      },
      "source": [
        "##NumPy (Numerical Python)\n",
        "\n",
        "*   Efficient data structures for working with arrays are provided by the NumPy library.\n",
        "*   Numpy is a low level library written in C for high level mathematical functions.\n",
        "*   It cleverly overcomes the problem of running slowwer algorithms on python by using multidimensional arrays and functions that operates on arrays.\n",
        "*   With this any algorithm that can be expressed as a function on arrays, allows the alogrithm to run quickly.\n",
        "*   NumPy is part of the SciPy project, and is released as a separate library so pople who only need the basic requirements can use it without intalling the rest of SciPy.\n",
        "*   NumPy is compatible Python versions 2.4 trough 2.7.2 and 3.1+."
      ]
    },
    {
      "cell_type": "markdown",
      "metadata": {
        "id": "RmF1JIKumw-A"
      },
      "source": [
        "##SciPy (Scientific Python)\n",
        "*   SciPy is a library that uses Numpy for mathematical functions.\n",
        "*   SciPy uses NumPy arrays as the basic data structure, and comes with modules for various commonly used tasks in scientific programming, including\n",
        "    *   Linear Algebra\n",
        "    *   Integration (Calculus)\n",
        "    *   Ordinary Differential Equation Solving\n",
        "    *   Signal Processing"
      ]
    },
    {
      "cell_type": "markdown",
      "metadata": {
        "id": "xF8BaKV2nuQl"
      },
      "source": [
        "##Matplotlib\n",
        "\n",
        "\n",
        "*   Matplotlib is a flexible plotting library for creating interactive 2D and 3D plots that can also be saved as manuscript-quality figures.\n",
        "*   The API in many ways reflects that of MATLAB, easing transition of MATLAB users to Python.\n",
        "*   Many examples, along with the source code to recreate them, are available in the matplotlib gallery.\n",
        "---"
      ]
    },
    {
      "cell_type": "markdown",
      "metadata": {
        "id": "QbZTOuG5jrHk"
      },
      "source": [
        "#Introduction to NumPy\n",
        "*   The NumPy library provides data structures for representing a rich variety of arrays and methods and functions for operating on such arrays.\n",
        "*   NumPy provides the numerical backend for nearly every scientific or technical library for Python.\n",
        "*   It is very important part of the scientific ecosystem in Python.\n",
        "\n",
        "> *NumPy array bear some resemblance to Python's list data structure.*\n",
        "\n",
        "*   The important difference is that the Python lists are generic containers of objects, NumPy arrays are homogeneous and typed arrays of fixed size.\n",
        "*   Homogeneous means that all elements in the array have the same data type.\n",
        "*   Fixed size means that an array cannot be resized (without creating a new array).\n",
        "*   For these and some other reasons operations and functions acting on NumPy arrays can be much more efficient than those using Python lists.\n",
        "*   NumPy also provides a large collection of basic operators\n",
        "and functions that act on these data structures, as well as submodules with higher-level algorithms such as linear algebra and fast Fourier transform.\n",
        "\n",
        "\n",
        "---\n",
        "\n"
      ]
    },
    {
      "cell_type": "markdown",
      "metadata": {
        "id": "0_5XPf6-s8BV"
      },
      "source": [
        "*In this section we will see basic NumPy data structure for arrays and various methods to create such NumPy arrays*"
      ]
    },
    {
      "cell_type": "code",
      "metadata": {
        "id": "ytWDX1PWtW0B"
      },
      "source": [
        "import numpy as np"
      ],
      "execution_count": 3,
      "outputs": []
    },
    {
      "cell_type": "markdown",
      "metadata": {
        "id": "XfOBd4hhtnxd"
      },
      "source": [
        "## The NumPy Array Object\n",
        "*   The main data structure for multidimensional arrays in NumPy is the `ndarray` class.\n",
        "*   In addition to the data stored in the array, this data structure also contains important metadata about the array, such as its shape, size, data type, and other attributes."
      ]
    },
    {
      "cell_type": "code",
      "metadata": {
        "colab": {
          "base_uri": "https://localhost:8080/"
        },
        "id": "pSqbSTgcub6X",
        "outputId": "1794dc9d-595c-4e5d-b9e1-5477a87a3b9c"
      },
      "source": [
        "help(np.ndarray)"
      ],
      "execution_count": 6,
      "outputs": [
        {
          "output_type": "execute_result",
          "data": {
            "text/plain": [
              "numpy.ndarray"
            ]
          },
          "metadata": {
            "tags": []
          },
          "execution_count": 6
        }
      ]
    }
  ]
}